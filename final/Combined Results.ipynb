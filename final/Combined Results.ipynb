{
 "cells": [
  {
   "cell_type": "code",
   "execution_count": 13,
   "id": "023a37f5",
   "metadata": {},
   "outputs": [],
   "source": [
    "import pandas as pd\n",
    "\n",
    "df1 = pd.read_csv('multi_model_results.txt', delimiter='\\t')\n"
   ]
  },
  {
   "cell_type": "code",
   "execution_count": 14,
   "id": "cbae5b1b",
   "metadata": {},
   "outputs": [],
   "source": [
    "import pandas as pd\n",
    "\n",
    "df2 = pd.read_csv('upgraded_model_results.txt', delimiter='\\t')"
   ]
  },
  {
   "cell_type": "markdown",
   "id": "065b7599",
   "metadata": {},
   "source": [
    "<span style=\"font-size: 24px;\">Base Model</span>\n"
   ]
  },
  {
   "cell_type": "code",
   "execution_count": 15,
   "id": "8df9ba15",
   "metadata": {},
   "outputs": [
    {
     "name": "stdout",
     "output_type": "stream",
     "text": [
      "  Model          MSE        RMSE         MAE       R2\n",
      "   CNN1 3.194455e+03   56.519510 2351.962252 0.943376\n",
      "   CNN2 2.576572e+03   50.759942 1820.112694 0.963163\n",
      "   CNN3 2.607311e+03   51.061838 1782.217712 0.962279\n",
      "CNNLSTM 2.676772e+06 1636.084359 1140.173202 0.985492\n",
      "   LSTM 6.480000e-04    0.025449    0.017227 0.903950\n",
      "   MLP1 1.232583e+06 1110.217422  823.938999 0.926639\n",
      "   MLP2 1.166463e+06 1080.029138  753.688031 0.930574\n",
      "     LR 8.874000e-03    0.094202    0.062311 0.988528\n",
      "    RBF 3.060000e-02    0.174929    0.123823 0.960441\n"
     ]
    }
   ],
   "source": [
    "print(df2.to_string(index=False))"
   ]
  },
  {
   "cell_type": "markdown",
   "id": "55523744",
   "metadata": {},
   "source": [
    "<span style=\"font-size: 24px;\">Multi-intput model</span>"
   ]
  },
  {
   "cell_type": "code",
   "execution_count": 16,
   "id": "5b0da116",
   "metadata": {},
   "outputs": [
    {
     "name": "stdout",
     "output_type": "stream",
     "text": [
      "      Model          MSE         RMSE          MAE        R2\n",
      "LSTM-multi1 5.056155e+02    22.485894     8.533626  0.180805\n",
      "LSTM-multi4 3.408735e+06  1846.276078   947.732289  0.981510\n",
      "LSTM-multi5 1.364059e+06  1167.929342   767.879820  0.992612\n",
      "         LR 8.873000e-03     0.094199     0.062295  0.988528\n",
      "        RBF 1.357700e-02     0.116520     0.082680  0.982448\n",
      "       CNN1 3.239558e+03    56.917115  2391.985249  0.942743\n",
      "       CNN2 1.849131e+04 18491.309955 17047.596635 -0.865480\n",
      "    CNNSLTM 3.568487e+06  1889.043879  1321.028053  0.980659\n"
     ]
    }
   ],
   "source": [
    "print(df1.to_string(index=False))"
   ]
  },
  {
   "cell_type": "code",
   "execution_count": null,
   "id": "45db2d34",
   "metadata": {},
   "outputs": [],
   "source": []
  }
 ],
 "metadata": {
  "kernelspec": {
   "display_name": "Python 3.10 (tensorflow)",
   "language": "python",
   "name": "tensorflow"
  },
  "language_info": {
   "codemirror_mode": {
    "name": "ipython",
    "version": 3
   },
   "file_extension": ".py",
   "mimetype": "text/x-python",
   "name": "python",
   "nbconvert_exporter": "python",
   "pygments_lexer": "ipython3",
   "version": "3.9.16"
  }
 },
 "nbformat": 4,
 "nbformat_minor": 5
}
