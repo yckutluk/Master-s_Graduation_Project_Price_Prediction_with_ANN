{
 "cells": [
  {
   "cell_type": "markdown",
   "id": "42aa0e18",
   "metadata": {},
   "source": [
    "<h1 style=\"font-size:36px;\">Convolutional Neural Network(CNN)</h1>"
   ]
  },
  {
   "cell_type": "markdown",
   "id": "25e40c8e",
   "metadata": {},
   "source": [
    "CNN architecture includes several convolutional layers followed by several fully connected layers. A matrix of Bitcoin price data over the time range is used as input. Convolutional layers create feature maps by acting on the input matrix of the filters. Fully connected layers flatten the feature maps and render them into the output layer. When this architecture is used for Bitcoin price prediction, it allows to learn visual features of historical price data and use these features to predict future prices.\n",
    "\n",
    "CNN mimarisi, birkaç evrişimli katman ve ardından birkaç tam bağlantılı katman içerir. Girdi olarak, zaman aralığındaki Bitcoin fiyat verilerinin bir matrisi kullanılır. Evrişimli katmanlar, filtrelerin girdi matrisi üzerinde hareket ederek özellik haritalarını oluşturur. Tam bağlantılı katmanlar, özellik haritalarını düzleştirir ve çıktı katmanına doğru işler. Bu mimari, Bitcoin fiyat tahmini için kullanıldığında, geçmiş fiyat verilerinin görsel özelliklerini öğrenmeyi ve bu özelliklerin gelecekteki fiyatları tahmin etmek için kullanılmasını sağlar."
   ]
  },
  {
   "cell_type": "markdown",
   "id": "9e9b19d6",
   "metadata": {},
   "source": [
    "Model 1 uses a Conv1D layer with 58 input properties and then halves the size using a MaxPooling1D layer. It then creates an intermediate output using a Dense layer, and finally uses a Dense layer containing a single output neuron, the output layer. Model 1 has 104,761 trainable parameters.\n",
    "\n",
    "Model 1, 58 adet girdi özelliğine sahip bir Conv1D katmanı kullanır ve ardından bir MaxPooling1D katmanı kullanarak boyutu yarıya indirir. Daha sonra, bir Yoğun katmanı kullanarak bir ara çıktı oluşturur ve son olarak, çıkış katmanı olan tek bir çıktı nöronu içeren bir Yoğun katman kullanır. Model 1, 104,761 eğitilebilir parametreye sahiptir."
   ]
  },
  {
   "cell_type": "markdown",
   "id": "529fe4c2",
   "metadata": {},
   "source": [
    "\n",
    "\n",
    "\n",
    "\n",
    "\n",
    "\n",
    "\n",
    "\n"
   ]
  },
  {
   "cell_type": "markdown",
   "id": "69a0b260",
   "metadata": {},
   "source": [
    "\n",
    "\n"
   ]
  },
  {
   "cell_type": "markdown",
   "id": "ab392b9a",
   "metadata": {},
   "source": [
    "\n",
    "\n"
   ]
  },
  {
   "cell_type": "markdown",
   "id": "f44bf5c1",
   "metadata": {},
   "source": [
    "\n",
    "<h3 style=\"font-size:24px;\">Data preprocessing and Preparation</h3>"
   ]
  },
  {
   "cell_type": "code",
   "execution_count": 1,
   "id": "abff19f2",
   "metadata": {},
   "outputs": [],
   "source": [
    "\n",
    "\n",
    "import pandas as pd\n",
    "import numpy as np\n",
    "import matplotlib.pyplot as plt\n",
    "from sklearn.preprocessing import StandardScaler\n",
    "from keras.models import Sequential\n",
    "from keras.layers import Dense\n",
    "from keras.layers import Flatten\n",
    "from keras.layers.convolutional import Conv1D\n",
    "from keras.layers.convolutional import MaxPooling1D\n",
    "from sklearn.metrics import mean_squared_error\n",
    "from keras.callbacks import History\n",
    "import math\n",
    "import yfinance as yf"
   ]
  },
  {
   "cell_type": "code",
   "execution_count": 2,
   "id": "9904fd0c",
   "metadata": {},
   "outputs": [
    {
     "data": {
      "text/plain": [
       "array([  457.33401489,   424.44000244,   394.79598999, ...,\n",
       "       27129.5859375 , 26753.82617188, 26909.51757812])"
      ]
     },
     "execution_count": 2,
     "metadata": {},
     "output_type": "execute_result"
    }
   ],
   "source": [
    "btc = yf.Ticker(\"BTC-USD\").history(period='max', interval='1d')\n",
    "btc.reset_index(inplace=True)\n",
    "close_btc = btc.Close.values\n",
    "close_btc     "
   ]
  },
  {
   "cell_type": "code",
   "execution_count": 3,
   "id": "ea9dd61d",
   "metadata": {},
   "outputs": [],
   "source": [
    "btc.reset_index(inplace=True)"
   ]
  },
  {
   "cell_type": "code",
   "execution_count": 4,
   "id": "c1cddf3c",
   "metadata": {},
   "outputs": [
    {
     "data": {
      "text/html": [
       "<div>\n",
       "<style scoped>\n",
       "    .dataframe tbody tr th:only-of-type {\n",
       "        vertical-align: middle;\n",
       "    }\n",
       "\n",
       "    .dataframe tbody tr th {\n",
       "        vertical-align: top;\n",
       "    }\n",
       "\n",
       "    .dataframe thead th {\n",
       "        text-align: right;\n",
       "    }\n",
       "</style>\n",
       "<table border=\"1\" class=\"dataframe\">\n",
       "  <thead>\n",
       "    <tr style=\"text-align: right;\">\n",
       "      <th></th>\n",
       "      <th>index</th>\n",
       "      <th>Date</th>\n",
       "      <th>Open</th>\n",
       "      <th>High</th>\n",
       "      <th>Low</th>\n",
       "      <th>Close</th>\n",
       "      <th>Volume</th>\n",
       "      <th>Dividends</th>\n",
       "      <th>Stock Splits</th>\n",
       "    </tr>\n",
       "  </thead>\n",
       "  <tbody>\n",
       "    <tr>\n",
       "      <th>0</th>\n",
       "      <td>0</td>\n",
       "      <td>2014-09-17 00:00:00+00:00</td>\n",
       "      <td>465.864014</td>\n",
       "      <td>468.174011</td>\n",
       "      <td>452.421997</td>\n",
       "      <td>457.334015</td>\n",
       "      <td>21056800</td>\n",
       "      <td>0.0</td>\n",
       "      <td>0.0</td>\n",
       "    </tr>\n",
       "    <tr>\n",
       "      <th>1</th>\n",
       "      <td>1</td>\n",
       "      <td>2014-09-18 00:00:00+00:00</td>\n",
       "      <td>456.859985</td>\n",
       "      <td>456.859985</td>\n",
       "      <td>413.104004</td>\n",
       "      <td>424.440002</td>\n",
       "      <td>34483200</td>\n",
       "      <td>0.0</td>\n",
       "      <td>0.0</td>\n",
       "    </tr>\n",
       "    <tr>\n",
       "      <th>2</th>\n",
       "      <td>2</td>\n",
       "      <td>2014-09-19 00:00:00+00:00</td>\n",
       "      <td>424.102997</td>\n",
       "      <td>427.834991</td>\n",
       "      <td>384.532013</td>\n",
       "      <td>394.795990</td>\n",
       "      <td>37919700</td>\n",
       "      <td>0.0</td>\n",
       "      <td>0.0</td>\n",
       "    </tr>\n",
       "    <tr>\n",
       "      <th>3</th>\n",
       "      <td>3</td>\n",
       "      <td>2014-09-20 00:00:00+00:00</td>\n",
       "      <td>394.673004</td>\n",
       "      <td>423.295990</td>\n",
       "      <td>389.882996</td>\n",
       "      <td>408.903992</td>\n",
       "      <td>36863600</td>\n",
       "      <td>0.0</td>\n",
       "      <td>0.0</td>\n",
       "    </tr>\n",
       "    <tr>\n",
       "      <th>4</th>\n",
       "      <td>4</td>\n",
       "      <td>2014-09-21 00:00:00+00:00</td>\n",
       "      <td>408.084991</td>\n",
       "      <td>412.425995</td>\n",
       "      <td>393.181000</td>\n",
       "      <td>398.821014</td>\n",
       "      <td>26580100</td>\n",
       "      <td>0.0</td>\n",
       "      <td>0.0</td>\n",
       "    </tr>\n",
       "    <tr>\n",
       "      <th>...</th>\n",
       "      <td>...</td>\n",
       "      <td>...</td>\n",
       "      <td>...</td>\n",
       "      <td>...</td>\n",
       "      <td>...</td>\n",
       "      <td>...</td>\n",
       "      <td>...</td>\n",
       "      <td>...</td>\n",
       "      <td>...</td>\n",
       "    </tr>\n",
       "    <tr>\n",
       "      <th>3165</th>\n",
       "      <td>3165</td>\n",
       "      <td>2023-05-18 00:00:00+00:00</td>\n",
       "      <td>27401.650391</td>\n",
       "      <td>27466.527344</td>\n",
       "      <td>26415.101562</td>\n",
       "      <td>26832.208984</td>\n",
       "      <td>15222938600</td>\n",
       "      <td>0.0</td>\n",
       "      <td>0.0</td>\n",
       "    </tr>\n",
       "    <tr>\n",
       "      <th>3166</th>\n",
       "      <td>3166</td>\n",
       "      <td>2023-05-19 00:00:00+00:00</td>\n",
       "      <td>26826.753906</td>\n",
       "      <td>27128.619141</td>\n",
       "      <td>26700.210938</td>\n",
       "      <td>26890.128906</td>\n",
       "      <td>11258983301</td>\n",
       "      <td>0.0</td>\n",
       "      <td>0.0</td>\n",
       "    </tr>\n",
       "    <tr>\n",
       "      <th>3167</th>\n",
       "      <td>3167</td>\n",
       "      <td>2023-05-20 00:00:00+00:00</td>\n",
       "      <td>26888.841797</td>\n",
       "      <td>27155.158203</td>\n",
       "      <td>26843.277344</td>\n",
       "      <td>27129.585938</td>\n",
       "      <td>7044911360</td>\n",
       "      <td>0.0</td>\n",
       "      <td>0.0</td>\n",
       "    </tr>\n",
       "    <tr>\n",
       "      <th>3168</th>\n",
       "      <td>3168</td>\n",
       "      <td>2023-05-21 00:00:00+00:00</td>\n",
       "      <td>27118.423828</td>\n",
       "      <td>27265.917969</td>\n",
       "      <td>26706.921875</td>\n",
       "      <td>26753.826172</td>\n",
       "      <td>8647416921</td>\n",
       "      <td>0.0</td>\n",
       "      <td>0.0</td>\n",
       "    </tr>\n",
       "    <tr>\n",
       "      <th>3169</th>\n",
       "      <td>3169</td>\n",
       "      <td>2023-05-22 00:00:00+00:00</td>\n",
       "      <td>26767.541016</td>\n",
       "      <td>27037.126953</td>\n",
       "      <td>26567.613281</td>\n",
       "      <td>26909.517578</td>\n",
       "      <td>10834617344</td>\n",
       "      <td>0.0</td>\n",
       "      <td>0.0</td>\n",
       "    </tr>\n",
       "  </tbody>\n",
       "</table>\n",
       "<p>3170 rows × 9 columns</p>\n",
       "</div>"
      ],
      "text/plain": [
       "      index                      Date          Open          High   \n",
       "0         0 2014-09-17 00:00:00+00:00    465.864014    468.174011  \\\n",
       "1         1 2014-09-18 00:00:00+00:00    456.859985    456.859985   \n",
       "2         2 2014-09-19 00:00:00+00:00    424.102997    427.834991   \n",
       "3         3 2014-09-20 00:00:00+00:00    394.673004    423.295990   \n",
       "4         4 2014-09-21 00:00:00+00:00    408.084991    412.425995   \n",
       "...     ...                       ...           ...           ...   \n",
       "3165   3165 2023-05-18 00:00:00+00:00  27401.650391  27466.527344   \n",
       "3166   3166 2023-05-19 00:00:00+00:00  26826.753906  27128.619141   \n",
       "3167   3167 2023-05-20 00:00:00+00:00  26888.841797  27155.158203   \n",
       "3168   3168 2023-05-21 00:00:00+00:00  27118.423828  27265.917969   \n",
       "3169   3169 2023-05-22 00:00:00+00:00  26767.541016  27037.126953   \n",
       "\n",
       "               Low         Close       Volume  Dividends  Stock Splits  \n",
       "0       452.421997    457.334015     21056800        0.0           0.0  \n",
       "1       413.104004    424.440002     34483200        0.0           0.0  \n",
       "2       384.532013    394.795990     37919700        0.0           0.0  \n",
       "3       389.882996    408.903992     36863600        0.0           0.0  \n",
       "4       393.181000    398.821014     26580100        0.0           0.0  \n",
       "...            ...           ...          ...        ...           ...  \n",
       "3165  26415.101562  26832.208984  15222938600        0.0           0.0  \n",
       "3166  26700.210938  26890.128906  11258983301        0.0           0.0  \n",
       "3167  26843.277344  27129.585938   7044911360        0.0           0.0  \n",
       "3168  26706.921875  26753.826172   8647416921        0.0           0.0  \n",
       "3169  26567.613281  26909.517578  10834617344        0.0           0.0  \n",
       "\n",
       "[3170 rows x 9 columns]"
      ]
     },
     "execution_count": 4,
     "metadata": {},
     "output_type": "execute_result"
    }
   ],
   "source": [
    "btc"
   ]
  },
  {
   "cell_type": "code",
   "execution_count": 5,
   "id": "feb7700b",
   "metadata": {},
   "outputs": [],
   "source": [
    "\n",
    "X = []\n",
    "y = []\n",
    "inp_num = 60\n",
    "\n",
    "for i in range(inp_num, len(close_btc)):\n",
    "    X.append(close_btc[i-inp_num:i])\n",
    "    y.append(close_btc[i])\n",
    "\n",
    "X = np.array(X)\n",
    "y = np.array(y)"
   ]
  },
  {
   "cell_type": "code",
   "execution_count": 6,
   "id": "06169551",
   "metadata": {},
   "outputs": [],
   "source": [
    "split = int(len(X) * 0.8)\n",
    "X_train = X[:split]\n",
    "y_train = np.array(y[:split])\n",
    "X_test = X[split:]\n",
    "y_test = np.array(y[split:])"
   ]
  },
  {
   "cell_type": "code",
   "execution_count": 7,
   "id": "f7c0eb0d",
   "metadata": {},
   "outputs": [],
   "source": [
    "\n",
    "sc = StandardScaler()\n",
    "X_train = sc.fit_transform(X_train)\n",
    "X_test = sc.transform(X_test)\n",
    "\n",
    "X_train = np.reshape(X_train, (X_train.shape[0], X_train.shape[1], 1))\n",
    "X_test = np.reshape(X_test, (X_test.shape[0], X_test.shape[1], 1))"
   ]
  },
  {
   "cell_type": "code",
   "execution_count": 8,
   "id": "407e5604",
   "metadata": {},
   "outputs": [],
   "source": [
    "model = Sequential()\n",
    "model.add(Conv1D(filters=64, kernel_size=5, activation=\"relu\", input_shape=(inp_num, 1)))\n",
    "model.add(Conv1D(filters=32, kernel_size=5, activation=\"relu\"))\n",
    "model.add(MaxPooling1D(pool_size=2))\n",
    "model.add(Flatten())\n",
    "model.add(Dense(60, activation=\"relu\"))\n",
    "model.add(Dense(1))\n",
    "\n",
    "model.compile(optimizer=\"adam\", loss=\"mse\")\n"
   ]
  },
  {
   "cell_type": "code",
   "execution_count": 9,
   "id": "8cb6a0c0",
   "metadata": {},
   "outputs": [
    {
     "name": "stdout",
     "output_type": "stream",
     "text": [
      "Model: \"sequential\"\n",
      "_________________________________________________________________\n",
      " Layer (type)                Output Shape              Param #   \n",
      "=================================================================\n",
      " conv1d (Conv1D)             (None, 56, 64)            384       \n",
      "                                                                 \n",
      " conv1d_1 (Conv1D)           (None, 52, 32)            10272     \n",
      "                                                                 \n",
      " max_pooling1d (MaxPooling1D  (None, 26, 32)           0         \n",
      " )                                                               \n",
      "                                                                 \n",
      " flatten (Flatten)           (None, 832)               0         \n",
      "                                                                 \n",
      " dense (Dense)               (None, 60)                49980     \n",
      "                                                                 \n",
      " dense_1 (Dense)             (None, 1)                 61        \n",
      "                                                                 \n",
      "=================================================================\n",
      "Total params: 60,697\n",
      "Trainable params: 60,697\n",
      "Non-trainable params: 0\n",
      "_________________________________________________________________\n"
     ]
    }
   ],
   "source": [
    "model.summary()"
   ]
  },
  {
   "cell_type": "code",
   "execution_count": 10,
   "id": "b5562c1f",
   "metadata": {},
   "outputs": [
    {
     "name": "stdout",
     "output_type": "stream",
     "text": [
      "Epoch 1/50\n",
      "78/78 [==============================] - 1s 3ms/step - loss: 227360032.0000\n",
      "Epoch 2/50\n",
      "78/78 [==============================] - 0s 3ms/step - loss: 39497736.0000\n",
      "Epoch 3/50\n",
      "78/78 [==============================] - 0s 3ms/step - loss: 16107622.0000\n",
      "Epoch 4/50\n",
      "78/78 [==============================] - 0s 3ms/step - loss: 13053992.0000\n",
      "Epoch 5/50\n",
      "78/78 [==============================] - 0s 3ms/step - loss: 11144892.0000\n",
      "Epoch 6/50\n",
      "78/78 [==============================] - 0s 3ms/step - loss: 10034949.0000\n",
      "Epoch 7/50\n",
      "78/78 [==============================] - 0s 3ms/step - loss: 9277967.0000\n",
      "Epoch 8/50\n",
      "78/78 [==============================] - 0s 3ms/step - loss: 8603028.0000\n",
      "Epoch 9/50\n",
      "78/78 [==============================] - 0s 3ms/step - loss: 8072905.5000\n",
      "Epoch 10/50\n",
      "78/78 [==============================] - 0s 3ms/step - loss: 7300474.0000\n",
      "Epoch 11/50\n",
      "78/78 [==============================] - 0s 3ms/step - loss: 7057364.5000\n",
      "Epoch 12/50\n",
      "78/78 [==============================] - 0s 3ms/step - loss: 6091009.0000\n",
      "Epoch 13/50\n",
      "78/78 [==============================] - 0s 3ms/step - loss: 5662261.0000\n",
      "Epoch 14/50\n",
      "78/78 [==============================] - 0s 3ms/step - loss: 5262714.0000\n",
      "Epoch 15/50\n",
      "78/78 [==============================] - 0s 3ms/step - loss: 4673586.0000\n",
      "Epoch 16/50\n",
      "78/78 [==============================] - 0s 3ms/step - loss: 4631605.0000\n",
      "Epoch 17/50\n",
      "78/78 [==============================] - 0s 3ms/step - loss: 4145687.5000\n",
      "Epoch 18/50\n",
      "78/78 [==============================] - 0s 3ms/step - loss: 3973609.0000\n",
      "Epoch 19/50\n",
      "78/78 [==============================] - 0s 3ms/step - loss: 4081466.5000\n",
      "Epoch 20/50\n",
      "78/78 [==============================] - 0s 3ms/step - loss: 3693569.7500\n",
      "Epoch 21/50\n",
      "78/78 [==============================] - 0s 3ms/step - loss: 3609838.0000\n",
      "Epoch 22/50\n",
      "78/78 [==============================] - 0s 3ms/step - loss: 3571846.5000\n",
      "Epoch 23/50\n",
      "78/78 [==============================] - 0s 3ms/step - loss: 3460884.2500\n",
      "Epoch 24/50\n",
      "78/78 [==============================] - 0s 3ms/step - loss: 3493044.7500\n",
      "Epoch 25/50\n",
      "78/78 [==============================] - 0s 3ms/step - loss: 3393226.0000\n",
      "Epoch 26/50\n",
      "78/78 [==============================] - 0s 3ms/step - loss: 3486385.0000\n",
      "Epoch 27/50\n",
      "78/78 [==============================] - 0s 3ms/step - loss: 3316083.7500\n",
      "Epoch 28/50\n",
      "78/78 [==============================] - 0s 3ms/step - loss: 3146780.7500\n",
      "Epoch 29/50\n",
      "78/78 [==============================] - 0s 3ms/step - loss: 3116337.5000\n",
      "Epoch 30/50\n",
      "78/78 [==============================] - 0s 3ms/step - loss: 3345687.2500\n",
      "Epoch 31/50\n",
      "78/78 [==============================] - 0s 3ms/step - loss: 2909812.0000\n",
      "Epoch 32/50\n",
      "78/78 [==============================] - 0s 3ms/step - loss: 3113276.2500\n",
      "Epoch 33/50\n",
      "78/78 [==============================] - 0s 3ms/step - loss: 2879703.5000\n",
      "Epoch 34/50\n",
      "78/78 [==============================] - 0s 3ms/step - loss: 2965386.2500\n",
      "Epoch 35/50\n",
      "78/78 [==============================] - 0s 3ms/step - loss: 3140348.0000\n",
      "Epoch 36/50\n",
      "78/78 [==============================] - 0s 4ms/step - loss: 2749982.5000\n",
      "Epoch 37/50\n",
      "78/78 [==============================] - 0s 4ms/step - loss: 2652826.7500\n",
      "Epoch 38/50\n",
      "78/78 [==============================] - 0s 3ms/step - loss: 2621345.7500\n",
      "Epoch 39/50\n",
      "78/78 [==============================] - 0s 3ms/step - loss: 2585298.0000\n",
      "Epoch 40/50\n",
      "78/78 [==============================] - 0s 3ms/step - loss: 2637063.2500\n",
      "Epoch 41/50\n",
      "78/78 [==============================] - 0s 3ms/step - loss: 2533819.0000\n",
      "Epoch 42/50\n",
      "78/78 [==============================] - 0s 3ms/step - loss: 2487801.2500\n",
      "Epoch 43/50\n",
      "78/78 [==============================] - 0s 4ms/step - loss: 2673844.7500\n",
      "Epoch 44/50\n",
      "78/78 [==============================] - 0s 4ms/step - loss: 2665112.7500\n",
      "Epoch 45/50\n",
      "78/78 [==============================] - 0s 4ms/step - loss: 2562289.5000\n",
      "Epoch 46/50\n",
      "78/78 [==============================] - 0s 4ms/step - loss: 2391593.0000\n",
      "Epoch 47/50\n",
      "78/78 [==============================] - 0s 4ms/step - loss: 2377697.5000\n",
      "Epoch 48/50\n",
      "78/78 [==============================] - 0s 4ms/step - loss: 2243139.2500\n",
      "Epoch 49/50\n",
      "78/78 [==============================] - 0s 4ms/step - loss: 2315591.0000\n",
      "Epoch 50/50\n",
      "78/78 [==============================] - 0s 4ms/step - loss: 2163472.0000\n"
     ]
    },
    {
     "data": {
      "text/plain": [
       "<keras.callbacks.History at 0x176f303a0>"
      ]
     },
     "execution_count": 10,
     "metadata": {},
     "output_type": "execute_result"
    }
   ],
   "source": [
    "\n",
    "hist = History() # Used to record loss per epoch\n",
    "model.fit(X_train, y_train, epochs=50, batch_size = 32, callbacks=[hist])"
   ]
  },
  {
   "cell_type": "code",
   "execution_count": 12,
   "id": "515e65ed",
   "metadata": {},
   "outputs": [
    {
     "data": {
      "image/png": "[encoded data removed]",
      "text/plain": [
       "<Figure size 432x288 with 1 Axes>"
      ]
     },
     "metadata": {
      "needs_background": "light"
     },
     "output_type": "display_data"
    }
   ],
   "source": [
    "losses = hist.history['loss']\n",
    "plt.plot(np.arange(1, len(losses) + 1),losses)\n",
    "plt.title(\"Losses By Epoch\")\n",
    "plt.xlabel(\"Epoch\")\n",
    "plt.ylabel(\"Losses\")\n",
    "plt.show()"
   ]
  },
  {
   "cell_type": "code",
   "execution_count": 13,
   "id": "0230e181",
   "metadata": {},
   "outputs": [
    {
     "name": "stdout",
     "output_type": "stream",
     "text": [
      "20/20 [==============================] - 0s 1ms/step\n"
     ]
    }
   ],
   "source": [
    "\n",
    "yhat = model.predict(X_test)\n",
    "yhat = yhat.reshape(yhat.shape[0],)"
   ]
  },
  {
   "cell_type": "code",
   "execution_count": 14,
   "id": "82b2cbd0",
   "metadata": {},
   "outputs": [
    {
     "name": "stdout",
     "output_type": "stream",
     "text": [
      "RMSE = 2576.5717518018255\n"
     ]
    }
   ],
   "source": [
    "\n",
    "mse = math.sqrt(mean_squared_error(y_test, yhat))\n",
    "print(\"RMSE = \" + str(mse))"
   ]
  },
  {
   "cell_type": "code",
   "execution_count": 15,
   "id": "795f7266",
   "metadata": {},
   "outputs": [
    {
     "data": {
      "image/png": "[encoded data removed]",
      "text/plain": [
       "<Figure size 1440x720 with 1 Axes>"
      ]
     },
     "metadata": {
      "needs_background": "light"
     },
     "output_type": "display_data"
    }
   ],
   "source": [
    "plt.figure(figsize=(20,10))\n",
    "plt.plot(y_test, color=\"red\", label=\"Actual\")\n",
    "plt.plot(yhat, color = \"blue\", label = \"Predicted\")\n",
    "plt.title(\"BTC Close Stock Prices\")\n",
    "plt.xlabel(\"Time\")\n",
    "plt.ylabel(\"Stock Price\")\n",
    "plt.legend()\n",
    "plt.show()"
   ]
  },
  {
   "cell_type": "code",
   "execution_count": 16,
   "id": "8c396a7b",
   "metadata": {},
   "outputs": [
    {
     "name": "stdout",
     "output_type": "stream",
     "text": [
      "2576.5717518018255\n",
      "50.759942393602316\n"
     ]
    }
   ],
   "source": [
    "import pandas as pd\n",
    "from sklearn.metrics import mean_squared_error, r2_score, mean_absolute_error\n",
    "MSE = math.sqrt(mean_squared_error(y_test, yhat))\n",
    "RMSE =np.sqrt(mse)\n",
    "print(MSE)\n",
    "print(RMSE)"
   ]
  },
  {
   "cell_type": "code",
   "execution_count": 17,
   "id": "979e1085",
   "metadata": {},
   "outputs": [
    {
     "name": "stdout",
     "output_type": "stream",
     "text": [
      "MAE: 1820.1126940564711\n",
      "R2: 0.9631627403175984\n"
     ]
    }
   ],
   "source": [
    "from sklearn.metrics import mean_absolute_error\n",
    "from sklearn.metrics import r2_score\n",
    "MAE = mean_absolute_error(y_test, yhat)\n",
    "print('MAE:', MAE)\n",
    "R2 = r2_score(y_test, yhat)\n",
    "print('R2:', R2)"
   ]
  },
  {
   "cell_type": "code",
   "execution_count": 18,
   "id": "bed60121",
   "metadata": {},
   "outputs": [
    {
     "name": "stdout",
     "output_type": "stream",
     "text": [
      "        MSE      RMSE         MAE       R2\n",
      "2576.571752 50.759942 1820.112694 0.963163\n"
     ]
    }
   ],
   "source": [
    "import pandas as pd\n",
    "\n",
    "# Değerleri bir sözlük yapısında sakla\n",
    "results = {'MSE': [MSE], 'RMSE': [RMSE], 'MAE': [MAE], 'R2': [R2]}\n",
    "\n",
    "# DataFrame oluştur ve index değerlerini varsayılan değerlerle ata\n",
    "CNN2_ERROR= pd.DataFrame.from_dict(results, orient='index').T\n",
    "\n",
    "# DataFrame'i ERROR ismiyle kaydet\n",
    "CNN2_ERROR = CNN2_ERROR.to_string(index=False)\n",
    "\n",
    "# ERROR'u yazdır\n",
    "\n",
    "print(CNN2_ERROR)"
   ]
  },
  {
   "cell_type": "code",
   "execution_count": 19,
   "id": "c6f2d4f1",
   "metadata": {},
   "outputs": [],
   "source": [
    "import pandas as pd\n",
    "\n",
    "# Değerleri bir sözlük yapısında sakla\n",
    "results = {'MSE': [MSE], 'RMSE': [RMSE], 'MAE': [MAE], 'R2': [R2]}\n",
    "\n",
    "# DataFrame oluştur ve index değerlerini varsayılan değerlerle ata\n",
    "CNN2_ERROR = pd.DataFrame.from_dict(results, orient='index').T\n",
    "\n",
    "# Çıktıyı metin dosyasına aktar\n",
    "output_text = CNN2_ERROR.to_string(index=False)\n",
    "\n",
    "# Metin dosyasını kaydet\n",
    "with open('CNN2_ERROR.txt', 'w') as file:\n",
    "    file.write(output_text)\n"
   ]
  },
  {
   "cell_type": "code",
   "execution_count": null,
   "id": "6966e22b",
   "metadata": {},
   "outputs": [],
   "source": []
  },
  {
   "cell_type": "code",
   "execution_count": null,
   "id": "156bf4a5",
   "metadata": {},
   "outputs": [],
   "source": []
  }
 ],
 "metadata": {
  "kernelspec": {
   "display_name": "Python 3.10 (tensorflow)",
   "language": "python",
   "name": "tensorflow"
  },
  "language_info": {
   "codemirror_mode": {
    "name": "ipython",
    "version": 3
   },
   "file_extension": ".py",
   "mimetype": "text/x-python",
   "name": "python",
   "nbconvert_exporter": "python",
   "pygments_lexer": "ipython3",
   "version": "3.9.16"
  }
 },
 "nbformat": 4,
 "nbformat_minor": 5
}
