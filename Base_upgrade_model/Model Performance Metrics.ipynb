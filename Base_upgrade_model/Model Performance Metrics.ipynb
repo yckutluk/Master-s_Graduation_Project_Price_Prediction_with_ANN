{
 "cells": [
  {
   "cell_type": "code",
   "execution_count": 1,
   "id": "29b9efae",
   "metadata": {},
   "outputs": [
    {
     "name": "stdout",
     "output_type": "stream",
     "text": [
      "  Model          MSE        RMSE         MAE       R2\n",
      "   CNN1 3.194455e+03   56.519510 2351.962252 0.943376\n",
      "   CNN2 2.576572e+03   50.759942 1820.112694 0.963163\n",
      "   CNN3 2.607311e+03   51.061838 1782.217712 0.962279\n",
      "CNNLSTM 2.676772e+06 1636.084359 1140.173202 0.985492\n",
      "   LSTM 6.480000e-04    0.025449    0.017227 0.903950\n",
      "   MLP1 1.232583e+06 1110.217422  823.938999 0.926639\n",
      "   MLP2 1.166463e+06 1080.029138  753.688031 0.930574\n",
      "     LR 8.874000e-03    0.094202    0.062311 0.988528\n",
      "    RBF 3.060000e-02    0.174929    0.123823 0.960441\n"
     ]
    }
   ],
   "source": [
    "import pandas as pd\n",
    "\n",
    "# Dosyaları oku ve DataFrame'leri oluştur\n",
    "df1 = pd.read_csv('CNN1_ERROR.txt', delimiter='\\s+')\n",
    "df2 = pd.read_csv('CNN2_ERROR.txt', delimiter='\\s+')\n",
    "df3 = pd.read_csv('CNN3_ERROR.txt', delimiter='\\s+')\n",
    "df_LSTMCNN = pd.read_csv('CNNLSTM_ERROR.txt', delimiter='\\s+')\n",
    "df_lstm = pd.read_csv('LSTM_ERROR.txt', delimiter='\\s+')\n",
    "df_MLP1 = pd.read_csv('MLP1_ERROR.txt', delimiter='\\s+')\n",
    "df_MLP2 = pd.read_csv('MLP2_ERROR.txt', delimiter='\\s+')\n",
    "\n",
    "# SVR2_ERROR.txt dosyasını oku\n",
    "df_svr2 = pd.read_csv('SVR2_ERROR.txt', delimiter='\\s+')\n",
    "\n",
    "# LR ve SVR satırlarını DataFrame'e ekle\n",
    "df_lr = pd.DataFrame([['LR'] + df_svr2.iloc[0].tolist()], columns=['Model', 'MSE', 'RMSE', 'MAE', 'R2'])\n",
    "df_svr = pd.DataFrame([['RBF'] + df_svr2.iloc[1].tolist()], columns=['Model', 'MSE', 'RMSE', 'MAE', 'R2'])\n",
    "\n",
    "# Diğer DataFrame'leri birleştir\n",
    "df_combined = pd.concat([df1, df2, df3, df_LSTMCNN, df_lstm, df_MLP1, df_MLP2, df_lr, df_svr], axis=0, ignore_index=True)\n",
    "\n",
    "# Model adlarını güncelle\n",
    "df_combined.loc[df_combined['Model'].isnull(), 'Model'] = ['CNN1', 'CNN2', 'CNN3', 'CNNLSTM', 'LSTM', 'MLP1', 'MLP2']\n",
    "\n",
    "# Sütun adlarını yeniden düzenle\n",
    "df_combined = df_combined[['Model', 'MSE', 'RMSE', 'MAE', 'R2']]\n",
    "\n",
    "# DataFrame'i tablo formatında görüntüle\n",
    "print(df_combined.to_string(index=False))\n"
   ]
  },
  {
   "cell_type": "markdown",
   "id": "48cb856b",
   "metadata": {},
   "source": [
    "Tablodaki sonuçlara göre:\n",
    "\n",
    "CNN1, CNN2 ve CNN3 modellerinin MSE, RMSE ve MAE değerleri diğer modellere kıyasla daha düşüktür. \n",
    "Aynı zamanda R2 skorları da yüksektir. \n",
    "Bu, CNN tabanlı modellerin iyi bir performans sergilediğini göstermektedir.\n",
    "\n",
    "\n",
    "CNNLSTM modelinin MSE, RMSE ve MAE değerleri diğer modellere göre daha yüksektir.\n",
    "R2 skoru ise diğer modellere kıyasla biraz daha düşüktür. \n",
    "CNNLSTM modelinin performansı diğer CNN tabanlı modellere kıyasla biraz daha zayıftır.\n",
    "\n",
    "\n",
    "LSTM modeli, MSE, RMSE ve MAE değerlerinde diğer modellere kıyasla çok düşük değerlere sahiptir.\n",
    "Ancak, R2 skoru biraz daha düşüktür.\n",
    "Bu, LSTM modelinin tahminlerinin gerçek değerlere daha yakın olduğunu göstermektedir.\n",
    "\n",
    "\n",
    "MLP1 ve MLP2 modellerinin MSE, RMSE ve MAE değerleri diğer modellere kıyasla daha yüksektir.\n",
    "R2 skorları ise diğer modellere kıyasla biraz daha düşüktür.\n",
    "MLP (Multi-Layer Perceptron) modelleri, diğer modellere göre daha az performans sergilemektedir.\n",
    "\n",
    "\n",
    "LR (Linear Regression) ve RBF (Radial Basis Function) modellerinin MSE, RMSE ve MAE değerleri diğer modellere kıyasla düşük ve R2 skorları yüksektir. Bu, bu iki modelin iyi bir performans gösterdiğini göstermektedir."
   ]
  },
  {
   "cell_type": "code",
   "execution_count": 3,
   "id": "15a02332",
   "metadata": {},
   "outputs": [],
   "source": [
    "output_text = df_combined.to_string(index=False)\n",
    "\n",
    "with open('upgraded_model_results.txt', 'w') as file:\n",
    "    file.write(output_text)\n"
   ]
  },
  {
   "cell_type": "code",
   "execution_count": null,
   "id": "b510c0ba",
   "metadata": {},
   "outputs": [],
   "source": []
  }
 ],
 "metadata": {
  "kernelspec": {
   "display_name": "Python 3.10 (tensorflow)",
   "language": "python",
   "name": "tensorflow"
  },
  "language_info": {
   "codemirror_mode": {
    "name": "ipython",
    "version": 3
   },
   "file_extension": ".py",
   "mimetype": "text/x-python",
   "name": "python",
   "nbconvert_exporter": "python",
   "pygments_lexer": "ipython3",
   "version": "3.9.16"
  }
 },
 "nbformat": 4,
 "nbformat_minor": 5
}
