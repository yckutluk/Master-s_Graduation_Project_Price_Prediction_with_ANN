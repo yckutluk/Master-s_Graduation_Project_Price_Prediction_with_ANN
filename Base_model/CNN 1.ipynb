{
 "cells": [
  {
   "cell_type": "markdown",
   "id": "42aa0e18",
   "metadata": {},
   "source": [
    "<h1 style=\"font-size:36px;\">Convolutional Neural Network(CNN)</h1>"
   ]
  },
  {
   "cell_type": "markdown",
   "id": "25e40c8e",
   "metadata": {},
   "source": [
    "CNN architecture includes several convolutional layers followed by several fully connected layers. A matrix of Bitcoin price data over the time range is used as input. Convolutional layers create feature maps by acting on the input matrix of the filters. Fully connected layers flatten the feature maps and render them into the output layer. When this architecture is used for Bitcoin price prediction, it allows to learn visual features of historical price data and use these features to predict future prices.\n",
    "\n",
    "CNN mimarisi, birkaç evrişimli katman ve ardından birkaç tam bağlantılı katman içerir. Girdi olarak, zaman aralığındaki Bitcoin fiyat verilerinin bir matrisi kullanılır. Evrişimli katmanlar, filtrelerin girdi matrisi üzerinde hareket ederek özellik haritalarını oluşturur. Tam bağlantılı katmanlar, özellik haritalarını düzleştirir ve çıktı katmanına doğru işler. Bu mimari, Bitcoin fiyat tahmini için kullanıldığında, geçmiş fiyat verilerinin görsel özelliklerini öğrenmeyi ve bu özelliklerin gelecekteki fiyatları tahmin etmek için kullanılmasını sağlar."
   ]
  },
  {
   "cell_type": "markdown",
   "id": "fa135b96",
   "metadata": {},
   "source": [
    "<h1 style=\"font-size:15px;\">Summary of the Model</h1>"
   ]
  },
  {
   "cell_type": "code",
   "execution_count": 18,
   "id": "123abe51",
   "metadata": {},
   "outputs": [
    {
     "name": "stdout",
     "output_type": "stream",
     "text": [
      "Model: \"sequential\"\n",
      "_________________________________________________________________\n",
      " Layer (type)                Output Shape              Param #   \n",
      "=================================================================\n",
      " conv1d (Conv1D)             (None, 58, 60)            240       \n",
      "                                                                 \n",
      " max_pooling1d (MaxPooling1D  (None, 29, 60)           0         \n",
      " )                                                               \n",
      "                                                                 \n",
      " flatten (Flatten)           (None, 1740)              0         \n",
      "                                                                 \n",
      " dense (Dense)               (None, 60)                104460    \n",
      "                                                                 \n",
      " dense_1 (Dense)             (None, 1)                 61        \n",
      "                                                                 \n",
      "=================================================================\n",
      "Total params: 104,761\n",
      "Trainable params: 104,761\n",
      "Non-trainable params: 0\n",
      "_________________________________________________________________\n"
     ]
    }
   ],
   "source": [
    "model.summary()"
   ]
  },
  {
   "cell_type": "markdown",
   "id": "9e9b19d6",
   "metadata": {},
   "source": [
    "Model 1 uses a Conv1D layer with 58 input properties and then halves the size using a MaxPooling1D layer. It then creates an intermediate output using a Dense layer, and finally uses a Dense layer containing a single output neuron, the output layer. Model 1 has 104,761 trainable parameters.\n",
    "\n",
    "Model 1, 58 adet girdi özelliğine sahip bir Conv1D katmanı kullanır ve ardından bir MaxPooling1D katmanı kullanarak boyutu yarıya indirir. Daha sonra, bir Yoğun katmanı kullanarak bir ara çıktı oluşturur ve son olarak, çıkış katmanı olan tek bir çıktı nöronu içeren bir Yoğun katman kullanır. Model 1, 104,761 eğitilebilir parametreye sahiptir."
   ]
  },
  {
   "cell_type": "markdown",
   "id": "44240fbd",
   "metadata": {},
   "source": [
    "<h1 style=\"font-size:15px;\">Model Outputs</h1>"
   ]
  },
  {
   "cell_type": "code",
   "execution_count": 37,
   "id": "bddd46bc",
   "metadata": {},
   "outputs": [
    {
     "name": "stdout",
     "output_type": "stream",
     "text": [
      "        MSE      RMSE         MAE       R2\n",
      "2031.524045 45.072431 1466.562713 0.977984\n"
     ]
    }
   ],
   "source": [
    "print(CNN1_ERROR)"
   ]
  },
  {
   "cell_type": "markdown",
   "id": "529fe4c2",
   "metadata": {},
   "source": [
    "\n",
    "\n",
    "\n",
    "\n",
    "\n",
    "\n",
    "\n",
    "\n"
   ]
  },
  {
   "cell_type": "markdown",
   "id": "69a0b260",
   "metadata": {},
   "source": [
    "\n",
    "\n"
   ]
  },
  {
   "cell_type": "markdown",
   "id": "ab392b9a",
   "metadata": {},
   "source": [
    "\n",
    "\n"
   ]
  },
  {
   "cell_type": "markdown",
   "id": "f44bf5c1",
   "metadata": {},
   "source": [
    "\n",
    "<h3 style=\"font-size:24px;\">Data preprocessing and Preparation</h3>"
   ]
  },
  {
   "cell_type": "code",
   "execution_count": 2,
   "id": "abff19f2",
   "metadata": {},
   "outputs": [
    {
     "name": "stdout",
     "output_type": "stream",
     "text": [
      "Requirement already satisfied: yfinance in /Users/mac/miniconda3/envs/tensorflow/lib/python3.9/site-packages (0.2.18)\n",
      "Requirement already satisfied: frozendict>=2.3.4 in /Users/mac/miniconda3/envs/tensorflow/lib/python3.9/site-packages (from yfinance) (2.3.8)\n",
      "Requirement already satisfied: appdirs>=1.4.4 in /Users/mac/miniconda3/envs/tensorflow/lib/python3.9/site-packages (from yfinance) (1.4.4)\n",
      "Requirement already satisfied: pytz>=2022.5 in /Users/mac/miniconda3/envs/tensorflow/lib/python3.9/site-packages (from yfinance) (2023.3)\n",
      "Requirement already satisfied: html5lib>=1.1 in /Users/mac/miniconda3/envs/tensorflow/lib/python3.9/site-packages (from yfinance) (1.1)\n",
      "Requirement already satisfied: lxml>=4.9.1 in /Users/mac/miniconda3/envs/tensorflow/lib/python3.9/site-packages (from yfinance) (4.9.2)\n",
      "Requirement already satisfied: requests>=2.26 in /Users/mac/miniconda3/envs/tensorflow/lib/python3.9/site-packages (from yfinance) (2.27.1)\n",
      "Requirement already satisfied: multitasking>=0.0.7 in /Users/mac/miniconda3/envs/tensorflow/lib/python3.9/site-packages (from yfinance) (0.0.11)\n",
      "Requirement already satisfied: pandas>=1.3.0 in /Users/mac/miniconda3/envs/tensorflow/lib/python3.9/site-packages (from yfinance) (2.0.1)\n",
      "Requirement already satisfied: cryptography>=3.3.2 in /Users/mac/miniconda3/envs/tensorflow/lib/python3.9/site-packages (from yfinance) (3.4.7)\n",
      "Requirement already satisfied: beautifulsoup4>=4.11.1 in /Users/mac/miniconda3/envs/tensorflow/lib/python3.9/site-packages (from yfinance) (4.12.2)\n",
      "Requirement already satisfied: numpy>=1.16.5 in /Users/mac/miniconda3/envs/tensorflow/lib/python3.9/site-packages (from yfinance) (1.22.3)\n",
      "Requirement already satisfied: soupsieve>1.2 in /Users/mac/miniconda3/envs/tensorflow/lib/python3.9/site-packages (from beautifulsoup4>=4.11.1->yfinance) (2.3.2.post1)\n",
      "Requirement already satisfied: cffi>=1.12 in /Users/mac/miniconda3/envs/tensorflow/lib/python3.9/site-packages (from cryptography>=3.3.2->yfinance) (1.15.1)\n",
      "Requirement already satisfied: webencodings in /Users/mac/miniconda3/envs/tensorflow/lib/python3.9/site-packages (from html5lib>=1.1->yfinance) (0.5.1)\n",
      "Requirement already satisfied: six>=1.9 in /Users/mac/miniconda3/envs/tensorflow/lib/python3.9/site-packages (from html5lib>=1.1->yfinance) (1.16.0)\n",
      "Requirement already satisfied: python-dateutil>=2.8.2 in /Users/mac/miniconda3/envs/tensorflow/lib/python3.9/site-packages (from pandas>=1.3.0->yfinance) (2.8.2)\n",
      "Requirement already satisfied: tzdata>=2022.1 in /Users/mac/miniconda3/envs/tensorflow/lib/python3.9/site-packages (from pandas>=1.3.0->yfinance) (2023.3)\n",
      "Requirement already satisfied: urllib3<1.27,>=1.21.1 in /Users/mac/miniconda3/envs/tensorflow/lib/python3.9/site-packages (from requests>=2.26->yfinance) (1.26.9)\n",
      "Requirement already satisfied: idna<4,>=2.5 in /Users/mac/miniconda3/envs/tensorflow/lib/python3.9/site-packages (from requests>=2.26->yfinance) (3.3)\n",
      "Requirement already satisfied: charset-normalizer~=2.0.0 in /Users/mac/miniconda3/envs/tensorflow/lib/python3.9/site-packages (from requests>=2.26->yfinance) (2.0.4)\n",
      "Requirement already satisfied: certifi>=2017.4.17 in /Users/mac/miniconda3/envs/tensorflow/lib/python3.9/site-packages (from requests>=2.26->yfinance) (2022.6.15)\n",
      "Requirement already satisfied: pycparser in /Users/mac/miniconda3/envs/tensorflow/lib/python3.9/site-packages (from cffi>=1.12->cryptography>=3.3.2->yfinance) (2.21)\n"
     ]
    }
   ],
   "source": [
    "!pip install yfinance\n",
    "\n",
    "import pandas as pd\n",
    "import numpy as np\n",
    "import matplotlib.pyplot as plt\n",
    "from sklearn.preprocessing import StandardScaler\n",
    "from keras.models import Sequential\n",
    "from keras.layers import Dense\n",
    "from keras.layers import Flatten\n",
    "from keras.layers.convolutional import Conv1D\n",
    "from keras.layers.convolutional import MaxPooling1D\n",
    "from sklearn.metrics import mean_squared_error\n",
    "from keras.callbacks import History\n",
    "import math\n",
    "import yfinance as yf"
   ]
  },
  {
   "cell_type": "code",
   "execution_count": 3,
   "id": "9904fd0c",
   "metadata": {},
   "outputs": [
    {
     "data": {
      "text/plain": [
       "array([  457.33401489,   424.44000244,   394.79598999, ...,\n",
       "       28091.56835938, 28680.53710938, 28947.95507812])"
      ]
     },
     "execution_count": 3,
     "metadata": {},
     "output_type": "execute_result"
    }
   ],
   "source": [
    "btc = yf.Ticker(\"BTC-USD\").history(period='max', interval='1d')\n",
    "btc.reset_index(inplace=True)\n",
    "close_btc = btc.Close.values\n",
    "close_btc     "
   ]
  },
  {
   "cell_type": "code",
   "execution_count": 4,
   "id": "feb7700b",
   "metadata": {},
   "outputs": [],
   "source": [
    "\n",
    "X = []\n",
    "y = []\n",
    "inp_num = 60\n",
    "\n",
    "for i in range(inp_num, len(close_btc)):\n",
    "    X.append(close_btc[i-inp_num:i])\n",
    "    y.append(close_btc[i])\n",
    "\n",
    "X = np.array(X)\n",
    "y = np.array(y)"
   ]
  },
  {
   "cell_type": "code",
   "execution_count": 5,
   "id": "06169551",
   "metadata": {},
   "outputs": [],
   "source": [
    "split = int(len(X) * 0.8)\n",
    "X_train = X[:split]\n",
    "y_train = np.array(y[:split])\n",
    "X_test = X[split:]\n",
    "y_test = np.array(y[split:])"
   ]
  },
  {
   "cell_type": "code",
   "execution_count": 6,
   "id": "f7c0eb0d",
   "metadata": {},
   "outputs": [],
   "source": [
    "\n",
    "sc = StandardScaler()\n",
    "X_train = sc.fit_transform(X_train)\n",
    "X_test = sc.transform(X_test)\n",
    "\n",
    "X_train = np.reshape(X_train, (X_train.shape[0], X_train.shape[1], 1))\n",
    "X_test = np.reshape(X_test, (X_test.shape[0], X_test.shape[1], 1))"
   ]
  },
  {
   "cell_type": "code",
   "execution_count": 7,
   "id": "407e5604",
   "metadata": {},
   "outputs": [],
   "source": [
    "model = Sequential() \n",
    "model.add(Conv1D(filters=60, kernel_size=3, activation = \"relu\", input_shape=(inp_num, 1)))\n",
    "model.add(MaxPooling1D(pool_size=2))\n",
    "model.add(Flatten())\n",
    "model.add(Dense(60, activation=\"relu\"))\n",
    "model.add(Dense(1))\n",
    "\n",
    "model.compile(optimizer=\"adam\", loss=\"mse\")"
   ]
  },
  {
   "cell_type": "code",
   "execution_count": 8,
   "id": "8cb6a0c0",
   "metadata": {},
   "outputs": [
    {
     "name": "stdout",
     "output_type": "stream",
     "text": [
      "Model: \"sequential\"\n",
      "_________________________________________________________________\n",
      " Layer (type)                Output Shape              Param #   \n",
      "=================================================================\n",
      " conv1d (Conv1D)             (None, 58, 60)            240       \n",
      "                                                                 \n",
      " max_pooling1d (MaxPooling1D  (None, 29, 60)           0         \n",
      " )                                                               \n",
      "                                                                 \n",
      " flatten (Flatten)           (None, 1740)              0         \n",
      "                                                                 \n",
      " dense (Dense)               (None, 60)                104460    \n",
      "                                                                 \n",
      " dense_1 (Dense)             (None, 1)                 61        \n",
      "                                                                 \n",
      "=================================================================\n",
      "Total params: 104,761\n",
      "Trainable params: 104,761\n",
      "Non-trainable params: 0\n",
      "_________________________________________________________________\n"
     ]
    }
   ],
   "source": [
    "model.summary()"
   ]
  },
  {
   "cell_type": "code",
   "execution_count": 9,
   "id": "b5562c1f",
   "metadata": {},
   "outputs": [
    {
     "name": "stdout",
     "output_type": "stream",
     "text": [
      "Epoch 1/200\n",
      "78/78 [==============================] - 0s 1ms/step - loss: 236595424.0000\n",
      "Epoch 2/200\n",
      "78/78 [==============================] - 0s 2ms/step - loss: 214688080.0000\n",
      "Epoch 3/200\n",
      "78/78 [==============================] - 0s 2ms/step - loss: 147883808.0000\n",
      "Epoch 4/200\n",
      "78/78 [==============================] - 0s 2ms/step - loss: 47056916.0000\n",
      "Epoch 5/200\n",
      "78/78 [==============================] - 0s 2ms/step - loss: 14040511.0000\n",
      "Epoch 6/200\n",
      "78/78 [==============================] - 0s 2ms/step - loss: 13199806.0000\n",
      "Epoch 7/200\n",
      "78/78 [==============================] - 0s 2ms/step - loss: 12640559.0000\n",
      "Epoch 8/200\n",
      "78/78 [==============================] - 0s 2ms/step - loss: 12190583.0000\n",
      "Epoch 9/200\n",
      "78/78 [==============================] - 0s 2ms/step - loss: 11767645.0000\n",
      "Epoch 10/200\n",
      "78/78 [==============================] - 0s 2ms/step - loss: 11423626.0000\n",
      "Epoch 11/200\n",
      "78/78 [==============================] - 0s 2ms/step - loss: 11001936.0000\n",
      "Epoch 12/200\n",
      "78/78 [==============================] - 0s 2ms/step - loss: 10620196.0000\n",
      "Epoch 13/200\n",
      "78/78 [==============================] - 0s 2ms/step - loss: 10302738.0000\n",
      "Epoch 14/200\n",
      "78/78 [==============================] - 0s 2ms/step - loss: 9976269.0000\n",
      "Epoch 15/200\n",
      "78/78 [==============================] - 0s 2ms/step - loss: 9708784.0000\n",
      "Epoch 16/200\n",
      "78/78 [==============================] - 0s 2ms/step - loss: 9412446.0000\n",
      "Epoch 17/200\n",
      "78/78 [==============================] - 0s 2ms/step - loss: 9236415.0000\n",
      "Epoch 18/200\n",
      "78/78 [==============================] - 0s 2ms/step - loss: 8826509.0000\n",
      "Epoch 19/200\n",
      "78/78 [==============================] - 0s 2ms/step - loss: 8580083.0000\n",
      "Epoch 20/200\n",
      "78/78 [==============================] - 0s 2ms/step - loss: 8371674.0000\n",
      "Epoch 21/200\n",
      "78/78 [==============================] - 0s 2ms/step - loss: 8108415.0000\n",
      "Epoch 22/200\n",
      "78/78 [==============================] - 0s 2ms/step - loss: 7885820.0000\n",
      "Epoch 23/200\n",
      "78/78 [==============================] - 0s 2ms/step - loss: 7687270.5000\n",
      "Epoch 24/200\n",
      "78/78 [==============================] - 0s 2ms/step - loss: 7425578.5000\n",
      "Epoch 25/200\n",
      "78/78 [==============================] - 0s 2ms/step - loss: 7209169.0000\n",
      "Epoch 26/200\n",
      "78/78 [==============================] - 0s 2ms/step - loss: 6997035.0000\n",
      "Epoch 27/200\n",
      "78/78 [==============================] - 0s 2ms/step - loss: 6747896.5000\n",
      "Epoch 28/200\n",
      "78/78 [==============================] - 0s 2ms/step - loss: 6530390.5000\n",
      "Epoch 29/200\n",
      "78/78 [==============================] - 0s 2ms/step - loss: 6254277.0000\n",
      "Epoch 30/200\n",
      "78/78 [==============================] - 0s 2ms/step - loss: 6082120.5000\n",
      "Epoch 31/200\n",
      "78/78 [==============================] - 0s 2ms/step - loss: 5802038.0000\n",
      "Epoch 32/200\n",
      "78/78 [==============================] - 0s 2ms/step - loss: 5735057.5000\n",
      "Epoch 33/200\n",
      "78/78 [==============================] - 0s 2ms/step - loss: 5461946.0000\n",
      "Epoch 34/200\n",
      "78/78 [==============================] - 0s 2ms/step - loss: 5291132.0000\n",
      "Epoch 35/200\n",
      "78/78 [==============================] - 0s 2ms/step - loss: 5103413.5000\n",
      "Epoch 36/200\n",
      "78/78 [==============================] - 0s 2ms/step - loss: 4933621.5000\n",
      "Epoch 37/200\n",
      "78/78 [==============================] - 0s 2ms/step - loss: 4723225.5000\n",
      "Epoch 38/200\n",
      "78/78 [==============================] - 0s 2ms/step - loss: 4634776.0000\n",
      "Epoch 39/200\n",
      "78/78 [==============================] - 0s 2ms/step - loss: 4419750.0000\n",
      "Epoch 40/200\n",
      "78/78 [==============================] - 0s 2ms/step - loss: 4282319.0000\n",
      "Epoch 41/200\n",
      "78/78 [==============================] - 0s 2ms/step - loss: 4063832.2500\n",
      "Epoch 42/200\n",
      "78/78 [==============================] - 0s 2ms/step - loss: 3945818.7500\n",
      "Epoch 43/200\n",
      "78/78 [==============================] - 0s 2ms/step - loss: 3834178.2500\n",
      "Epoch 44/200\n",
      "78/78 [==============================] - 0s 2ms/step - loss: 3729894.7500\n",
      "Epoch 45/200\n",
      "78/78 [==============================] - 0s 2ms/step - loss: 3596054.7500\n",
      "Epoch 46/200\n",
      "78/78 [==============================] - 0s 2ms/step - loss: 3441996.5000\n",
      "Epoch 47/200\n",
      "78/78 [==============================] - 0s 2ms/step - loss: 3444665.7500\n",
      "Epoch 48/200\n",
      "78/78 [==============================] - 0s 2ms/step - loss: 3371520.0000\n",
      "Epoch 49/200\n",
      "78/78 [==============================] - 0s 2ms/step - loss: 3249589.7500\n",
      "Epoch 50/200\n",
      "78/78 [==============================] - 0s 2ms/step - loss: 3199590.5000\n",
      "Epoch 51/200\n",
      "78/78 [==============================] - 0s 2ms/step - loss: 3138354.0000\n",
      "Epoch 52/200\n",
      "78/78 [==============================] - 0s 2ms/step - loss: 3170120.7500\n",
      "Epoch 53/200\n",
      "78/78 [==============================] - 0s 2ms/step - loss: 3053496.0000\n",
      "Epoch 54/200\n",
      "78/78 [==============================] - 0s 2ms/step - loss: 3062646.2500\n",
      "Epoch 55/200\n",
      "78/78 [==============================] - 0s 2ms/step - loss: 2961526.2500\n",
      "Epoch 56/200\n",
      "78/78 [==============================] - 0s 2ms/step - loss: 2929857.7500\n",
      "Epoch 57/200\n",
      "78/78 [==============================] - 0s 2ms/step - loss: 2943076.7500\n",
      "Epoch 58/200\n",
      "78/78 [==============================] - 0s 2ms/step - loss: 2883387.0000\n",
      "Epoch 59/200\n",
      "78/78 [==============================] - 0s 2ms/step - loss: 2844565.2500\n",
      "Epoch 60/200\n",
      "78/78 [==============================] - 0s 2ms/step - loss: 2830493.2500\n",
      "Epoch 61/200\n",
      "78/78 [==============================] - 0s 2ms/step - loss: 2800231.2500\n",
      "Epoch 62/200\n",
      "78/78 [==============================] - 0s 2ms/step - loss: 2764816.7500\n",
      "Epoch 63/200\n",
      "78/78 [==============================] - 0s 2ms/step - loss: 2752494.5000\n",
      "Epoch 64/200\n",
      "78/78 [==============================] - 0s 2ms/step - loss: 2778266.5000\n",
      "Epoch 65/200\n",
      "78/78 [==============================] - 0s 2ms/step - loss: 2737386.2500\n",
      "Epoch 66/200\n",
      "78/78 [==============================] - 0s 2ms/step - loss: 2718119.2500\n",
      "Epoch 67/200\n",
      "78/78 [==============================] - 0s 2ms/step - loss: 2675994.0000\n",
      "Epoch 68/200\n",
      "78/78 [==============================] - 0s 2ms/step - loss: 2691167.0000\n",
      "Epoch 69/200\n",
      "78/78 [==============================] - 0s 2ms/step - loss: 2654935.5000\n",
      "Epoch 70/200\n",
      "78/78 [==============================] - 0s 2ms/step - loss: 2657134.5000\n",
      "Epoch 71/200\n",
      "78/78 [==============================] - 0s 2ms/step - loss: 2608543.2500\n",
      "Epoch 72/200\n",
      "78/78 [==============================] - 0s 2ms/step - loss: 2670985.5000\n",
      "Epoch 73/200\n",
      "78/78 [==============================] - 0s 2ms/step - loss: 2591654.5000\n",
      "Epoch 74/200\n",
      "78/78 [==============================] - 0s 2ms/step - loss: 2569581.0000\n",
      "Epoch 75/200\n",
      "78/78 [==============================] - 0s 2ms/step - loss: 2499299.0000\n",
      "Epoch 76/200\n",
      "78/78 [==============================] - 0s 2ms/step - loss: 2551640.2500\n",
      "Epoch 77/200\n",
      "78/78 [==============================] - 0s 2ms/step - loss: 2563922.5000\n",
      "Epoch 78/200\n",
      "78/78 [==============================] - 0s 2ms/step - loss: 2475420.2500\n",
      "Epoch 79/200\n",
      "78/78 [==============================] - 0s 2ms/step - loss: 2478155.7500\n",
      "Epoch 80/200\n",
      "78/78 [==============================] - 0s 2ms/step - loss: 2437097.5000\n",
      "Epoch 81/200\n",
      "78/78 [==============================] - 0s 2ms/step - loss: 2480277.5000\n",
      "Epoch 82/200\n",
      "78/78 [==============================] - 0s 2ms/step - loss: 2409827.5000\n",
      "Epoch 83/200\n",
      "78/78 [==============================] - 0s 2ms/step - loss: 2405163.2500\n",
      "Epoch 84/200\n",
      "78/78 [==============================] - 0s 2ms/step - loss: 2399596.0000\n",
      "Epoch 85/200\n",
      "78/78 [==============================] - 0s 2ms/step - loss: 2376793.5000\n",
      "Epoch 86/200\n",
      "78/78 [==============================] - 0s 2ms/step - loss: 2355223.7500\n",
      "Epoch 87/200\n",
      "78/78 [==============================] - 0s 2ms/step - loss: 2330257.5000\n",
      "Epoch 88/200\n",
      "78/78 [==============================] - 0s 2ms/step - loss: 2296953.7500\n",
      "Epoch 89/200\n",
      "78/78 [==============================] - 0s 2ms/step - loss: 2296047.7500\n",
      "Epoch 90/200\n",
      "78/78 [==============================] - 0s 2ms/step - loss: 2301088.7500\n",
      "Epoch 91/200\n",
      "78/78 [==============================] - 0s 2ms/step - loss: 2275461.5000\n",
      "Epoch 92/200\n",
      "78/78 [==============================] - 0s 2ms/step - loss: 2253387.2500\n",
      "Epoch 93/200\n",
      "78/78 [==============================] - 0s 2ms/step - loss: 2226965.5000\n",
      "Epoch 94/200\n",
      "78/78 [==============================] - 0s 2ms/step - loss: 2280992.5000\n",
      "Epoch 95/200\n"
     ]
    },
    {
     "name": "stdout",
     "output_type": "stream",
     "text": [
      "78/78 [==============================] - 0s 2ms/step - loss: 2168059.0000\n",
      "Epoch 96/200\n",
      "78/78 [==============================] - 0s 2ms/step - loss: 2216324.7500\n",
      "Epoch 97/200\n",
      "78/78 [==============================] - 0s 2ms/step - loss: 2174148.2500\n",
      "Epoch 98/200\n",
      "78/78 [==============================] - 0s 2ms/step - loss: 2165479.2500\n",
      "Epoch 99/200\n",
      "78/78 [==============================] - 0s 2ms/step - loss: 2171852.0000\n",
      "Epoch 100/200\n",
      "78/78 [==============================] - 0s 2ms/step - loss: 2129304.5000\n",
      "Epoch 101/200\n",
      "78/78 [==============================] - 0s 2ms/step - loss: 2134242.5000\n",
      "Epoch 102/200\n",
      "78/78 [==============================] - 0s 2ms/step - loss: 2103147.5000\n",
      "Epoch 103/200\n",
      "78/78 [==============================] - 0s 2ms/step - loss: 2092645.1250\n",
      "Epoch 104/200\n",
      "78/78 [==============================] - 0s 2ms/step - loss: 2081471.6250\n",
      "Epoch 105/200\n",
      "78/78 [==============================] - 0s 2ms/step - loss: 2060082.5000\n",
      "Epoch 106/200\n",
      "78/78 [==============================] - 0s 2ms/step - loss: 2061285.2500\n",
      "Epoch 107/200\n",
      "78/78 [==============================] - 0s 2ms/step - loss: 2030621.3750\n",
      "Epoch 108/200\n",
      "78/78 [==============================] - 0s 2ms/step - loss: 2030805.7500\n",
      "Epoch 109/200\n",
      "78/78 [==============================] - 0s 2ms/step - loss: 2013538.0000\n",
      "Epoch 110/200\n",
      "78/78 [==============================] - 0s 2ms/step - loss: 1987652.7500\n",
      "Epoch 111/200\n",
      "78/78 [==============================] - 0s 2ms/step - loss: 2030177.5000\n",
      "Epoch 112/200\n",
      "78/78 [==============================] - 0s 2ms/step - loss: 1992291.2500\n",
      "Epoch 113/200\n",
      "78/78 [==============================] - 0s 2ms/step - loss: 1966488.5000\n",
      "Epoch 114/200\n",
      "78/78 [==============================] - 0s 2ms/step - loss: 1939017.7500\n",
      "Epoch 115/200\n",
      "78/78 [==============================] - 0s 2ms/step - loss: 1954268.7500\n",
      "Epoch 116/200\n",
      "78/78 [==============================] - 0s 2ms/step - loss: 1915487.1250\n",
      "Epoch 117/200\n",
      "78/78 [==============================] - 0s 2ms/step - loss: 1933563.5000\n",
      "Epoch 118/200\n",
      "78/78 [==============================] - 0s 2ms/step - loss: 1874264.2500\n",
      "Epoch 119/200\n",
      "78/78 [==============================] - 0s 2ms/step - loss: 1906544.0000\n",
      "Epoch 120/200\n",
      "78/78 [==============================] - 0s 2ms/step - loss: 1895372.8750\n",
      "Epoch 121/200\n",
      "78/78 [==============================] - 0s 2ms/step - loss: 1870208.3750\n",
      "Epoch 122/200\n",
      "78/78 [==============================] - 0s 2ms/step - loss: 1849998.7500\n",
      "Epoch 123/200\n",
      "78/78 [==============================] - 0s 2ms/step - loss: 1844671.1250\n",
      "Epoch 124/200\n",
      "78/78 [==============================] - 0s 2ms/step - loss: 1837480.0000\n",
      "Epoch 125/200\n",
      "78/78 [==============================] - 0s 2ms/step - loss: 1826326.6250\n",
      "Epoch 126/200\n",
      "78/78 [==============================] - 0s 2ms/step - loss: 1810014.5000\n",
      "Epoch 127/200\n",
      "78/78 [==============================] - 0s 2ms/step - loss: 1789786.2500\n",
      "Epoch 128/200\n",
      "78/78 [==============================] - 0s 2ms/step - loss: 1823918.7500\n",
      "Epoch 129/200\n",
      "78/78 [==============================] - 0s 2ms/step - loss: 1782745.8750\n",
      "Epoch 130/200\n",
      "78/78 [==============================] - 0s 2ms/step - loss: 1751350.0000\n",
      "Epoch 131/200\n",
      "78/78 [==============================] - 0s 2ms/step - loss: 1751216.0000\n",
      "Epoch 132/200\n",
      "78/78 [==============================] - 0s 2ms/step - loss: 1795129.1250\n",
      "Epoch 133/200\n",
      "78/78 [==============================] - 0s 2ms/step - loss: 1761627.1250\n",
      "Epoch 134/200\n",
      "78/78 [==============================] - 0s 2ms/step - loss: 1715693.3750\n",
      "Epoch 135/200\n",
      "78/78 [==============================] - 0s 2ms/step - loss: 1748503.8750\n",
      "Epoch 136/200\n",
      "78/78 [==============================] - 0s 2ms/step - loss: 1701820.2500\n",
      "Epoch 137/200\n",
      "78/78 [==============================] - 0s 2ms/step - loss: 1703316.0000\n",
      "Epoch 138/200\n",
      "78/78 [==============================] - 0s 2ms/step - loss: 1707904.6250\n",
      "Epoch 139/200\n",
      "78/78 [==============================] - 0s 2ms/step - loss: 1690102.8750\n",
      "Epoch 140/200\n",
      "78/78 [==============================] - 0s 2ms/step - loss: 1650124.3750\n",
      "Epoch 141/200\n",
      "78/78 [==============================] - 0s 2ms/step - loss: 1651671.8750\n",
      "Epoch 142/200\n",
      "78/78 [==============================] - 0s 2ms/step - loss: 1648944.0000\n",
      "Epoch 143/200\n",
      "78/78 [==============================] - 0s 2ms/step - loss: 1650101.5000\n",
      "Epoch 144/200\n",
      "78/78 [==============================] - 0s 2ms/step - loss: 1635546.8750\n",
      "Epoch 145/200\n",
      "78/78 [==============================] - 0s 2ms/step - loss: 1628330.5000\n",
      "Epoch 146/200\n",
      "78/78 [==============================] - 0s 2ms/step - loss: 1619300.6250\n",
      "Epoch 147/200\n",
      "78/78 [==============================] - 0s 2ms/step - loss: 1603001.1250\n",
      "Epoch 148/200\n",
      "78/78 [==============================] - 0s 2ms/step - loss: 1582348.6250\n",
      "Epoch 149/200\n",
      "78/78 [==============================] - 0s 2ms/step - loss: 1584634.6250\n",
      "Epoch 150/200\n",
      "78/78 [==============================] - 0s 2ms/step - loss: 1577664.2500\n",
      "Epoch 151/200\n",
      "78/78 [==============================] - 0s 2ms/step - loss: 1570213.7500\n",
      "Epoch 152/200\n",
      "78/78 [==============================] - 0s 2ms/step - loss: 1558960.6250\n",
      "Epoch 153/200\n",
      "78/78 [==============================] - 0s 2ms/step - loss: 1543793.8750\n",
      "Epoch 154/200\n",
      "78/78 [==============================] - 0s 2ms/step - loss: 1521268.3750\n",
      "Epoch 155/200\n",
      "78/78 [==============================] - 0s 2ms/step - loss: 1562187.6250\n",
      "Epoch 156/200\n",
      "78/78 [==============================] - 0s 2ms/step - loss: 1525870.3750\n",
      "Epoch 157/200\n",
      "78/78 [==============================] - 0s 2ms/step - loss: 1535094.3750\n",
      "Epoch 158/200\n",
      "78/78 [==============================] - 0s 2ms/step - loss: 1497995.1250\n",
      "Epoch 159/200\n",
      "78/78 [==============================] - 0s 2ms/step - loss: 1532088.1250\n",
      "Epoch 160/200\n",
      "78/78 [==============================] - 0s 2ms/step - loss: 1496339.3750\n",
      "Epoch 161/200\n",
      "78/78 [==============================] - 0s 2ms/step - loss: 1540869.8750\n",
      "Epoch 162/200\n",
      "78/78 [==============================] - 0s 2ms/step - loss: 1493613.3750\n",
      "Epoch 163/200\n",
      "78/78 [==============================] - 0s 2ms/step - loss: 1499729.2500\n",
      "Epoch 164/200\n",
      "78/78 [==============================] - 0s 2ms/step - loss: 1466760.7500\n",
      "Epoch 165/200\n",
      "78/78 [==============================] - 0s 2ms/step - loss: 1467001.6250\n",
      "Epoch 166/200\n",
      "78/78 [==============================] - 0s 2ms/step - loss: 1439879.7500\n",
      "Epoch 167/200\n",
      "78/78 [==============================] - 0s 2ms/step - loss: 1453966.7500\n",
      "Epoch 168/200\n",
      "78/78 [==============================] - 0s 2ms/step - loss: 1448241.7500\n",
      "Epoch 169/200\n",
      "78/78 [==============================] - 0s 2ms/step - loss: 1417517.6250\n",
      "Epoch 170/200\n",
      "78/78 [==============================] - 0s 2ms/step - loss: 1428013.0000\n",
      "Epoch 171/200\n",
      "78/78 [==============================] - 0s 2ms/step - loss: 1444239.8750\n",
      "Epoch 172/200\n",
      "78/78 [==============================] - 0s 2ms/step - loss: 1453465.8750\n",
      "Epoch 173/200\n",
      "78/78 [==============================] - 0s 2ms/step - loss: 1444014.0000\n",
      "Epoch 174/200\n",
      "78/78 [==============================] - 0s 2ms/step - loss: 1391985.3750\n",
      "Epoch 175/200\n",
      "78/78 [==============================] - 0s 2ms/step - loss: 1383853.0000\n",
      "Epoch 176/200\n",
      "78/78 [==============================] - 0s 2ms/step - loss: 1391056.2500\n",
      "Epoch 177/200\n",
      "78/78 [==============================] - 0s 2ms/step - loss: 1391810.1250\n",
      "Epoch 178/200\n",
      "78/78 [==============================] - 0s 2ms/step - loss: 1378353.2500\n",
      "Epoch 179/200\n",
      "78/78 [==============================] - 0s 2ms/step - loss: 1370808.5000\n",
      "Epoch 180/200\n",
      "78/78 [==============================] - 0s 2ms/step - loss: 1345128.1250\n",
      "Epoch 181/200\n",
      "78/78 [==============================] - 0s 2ms/step - loss: 1335199.1250\n",
      "Epoch 182/200\n",
      "78/78 [==============================] - 0s 2ms/step - loss: 1387447.2500\n",
      "Epoch 183/200\n",
      "78/78 [==============================] - 0s 2ms/step - loss: 1361758.1250\n",
      "Epoch 184/200\n",
      "78/78 [==============================] - 0s 2ms/step - loss: 1351850.3750\n",
      "Epoch 185/200\n",
      "78/78 [==============================] - 0s 2ms/step - loss: 1344668.1250\n",
      "Epoch 186/200\n",
      "78/78 [==============================] - 0s 2ms/step - loss: 1355648.1250\n",
      "Epoch 187/200\n",
      "78/78 [==============================] - 0s 2ms/step - loss: 1322924.1250\n",
      "Epoch 188/200\n",
      "78/78 [==============================] - 0s 2ms/step - loss: 1300209.5000\n",
      "Epoch 189/200\n",
      "78/78 [==============================] - 0s 2ms/step - loss: 1320772.3750\n",
      "Epoch 190/200\n",
      "78/78 [==============================] - 0s 2ms/step - loss: 1310439.1250\n",
      "Epoch 191/200\n",
      "78/78 [==============================] - 0s 2ms/step - loss: 1332551.5000\n",
      "Epoch 192/200\n",
      "78/78 [==============================] - 0s 2ms/step - loss: 1290844.6250\n",
      "Epoch 193/200\n",
      "78/78 [==============================] - 0s 2ms/step - loss: 1296073.0000\n",
      "Epoch 194/200\n",
      "78/78 [==============================] - 0s 2ms/step - loss: 1285168.0000\n",
      "Epoch 195/200\n",
      "78/78 [==============================] - 0s 2ms/step - loss: 1267992.7500\n",
      "Epoch 196/200\n",
      "78/78 [==============================] - 0s 2ms/step - loss: 1283253.1250\n",
      "Epoch 197/200\n",
      "78/78 [==============================] - 0s 2ms/step - loss: 1292978.7500\n",
      "Epoch 198/200\n",
      "78/78 [==============================] - 0s 2ms/step - loss: 1248511.6250\n",
      "Epoch 199/200\n",
      "78/78 [==============================] - 0s 2ms/step - loss: 1246530.0000\n",
      "Epoch 200/200\n",
      "78/78 [==============================] - 0s 2ms/step - loss: 1245672.7500\n"
     ]
    },
    {
     "data": {
      "text/plain": [
       "<keras.callbacks.History at 0x107d0c310>"
      ]
     },
     "execution_count": 9,
     "metadata": {},
     "output_type": "execute_result"
    }
   ],
   "source": [
    "\n",
    "hist = History() # Used to record loss per epoch\n",
    "model.fit(X_train, y_train, epochs=200, batch_size = 32, callbacks=[hist])"
   ]
  },
  {
   "cell_type": "code",
   "execution_count": 30,
   "id": "515e65ed",
   "metadata": {},
   "outputs": [
    {
     "data": {
      "image/png": "[encoded data removed]",
      "text/plain": [
       "<Figure size 432x288 with 1 Axes>"
      ]
     },
     "metadata": {
      "needs_background": "light"
     },
     "output_type": "display_data"
    }
   ],
   "source": [
    "losses = hist.history['loss']\n",
    "plt.plot(np.arange(1, len(losses) + 1),losses)\n",
    "plt.title(\"Losses By Epoch\")\n",
    "plt.xlabel(\"Epoch\")\n",
    "plt.ylabel(\"Losses\")\n",
    "plt.show()"
   ]
  },
  {
   "cell_type": "code",
   "execution_count": 31,
   "id": "0230e181",
   "metadata": {},
   "outputs": [
    {
     "name": "stdout",
     "output_type": "stream",
     "text": [
      "20/20 [==============================] - 0s 989us/step\n"
     ]
    }
   ],
   "source": [
    "\n",
    "yhat = model.predict(X_test)\n",
    "yhat = yhat.reshape(yhat.shape[0],)"
   ]
  },
  {
   "cell_type": "code",
   "execution_count": 32,
   "id": "82b2cbd0",
   "metadata": {},
   "outputs": [
    {
     "name": "stdout",
     "output_type": "stream",
     "text": [
      "RMSE = 2031.524045219791\n"
     ]
    }
   ],
   "source": [
    "\n",
    "mse = math.sqrt(mean_squared_error(y_test, yhat))\n",
    "print(\"RMSE = \" + str(mse))"
   ]
  },
  {
   "cell_type": "code",
   "execution_count": 39,
   "id": "795f7266",
   "metadata": {},
   "outputs": [
    {
     "data": {
      "image/png": "[encoded data removed]",
      "text/plain": [
       "<Figure size 1440x720 with 1 Axes>"
      ]
     },
     "metadata": {
      "needs_background": "light"
     },
     "output_type": "display_data"
    }
   ],
   "source": [
    "plt.figure(figsize=(20,10))\n",
    "plt.plot(y_test, color=\"red\", label=\"Actual\")\n",
    "plt.plot(yhat, color = \"blue\", label = \"Predicted\")\n",
    "plt.title(\"BTC Close Stock Prices\")\n",
    "plt.xlabel(\"Time\")\n",
    "plt.ylabel(\"Stock Price\")\n",
    "plt.legend()\n",
    "plt.show()"
   ]
  },
  {
   "cell_type": "code",
   "execution_count": 38,
   "id": "8c396a7b",
   "metadata": {},
   "outputs": [
    {
     "name": "stdout",
     "output_type": "stream",
     "text": [
      "2031.524045219791\n",
      "45.07243109950684\n"
     ]
    }
   ],
   "source": [
    "import pandas as pd\n",
    "from sklearn.metrics import mean_squared_error, r2_score, mean_absolute_error\n",
    "MSE = math.sqrt(mean_squared_error(y_test, yhat))\n",
    "RMSE =np.sqrt(mse)\n",
    "print(mse)\n",
    "print(rmse)"
   ]
  },
  {
   "cell_type": "code",
   "execution_count": 35,
   "id": "979e1085",
   "metadata": {},
   "outputs": [
    {
     "name": "stdout",
     "output_type": "stream",
     "text": [
      "MAE: 1466.5627129821285\n",
      "R2: 0.9779835750131977\n"
     ]
    }
   ],
   "source": [
    "from sklearn.metrics import mean_absolute_error\n",
    "from sklearn.metrics import r2_score\n",
    "MAE = mean_absolute_error(y_test, yhat)\n",
    "print('MAE:', mae)\n",
    "R2 = r2_score(y_test, yhat)\n",
    "print('R2:', r2)"
   ]
  },
  {
   "cell_type": "code",
   "execution_count": 36,
   "id": "bed60121",
   "metadata": {},
   "outputs": [
    {
     "name": "stdout",
     "output_type": "stream",
     "text": [
      "        MSE      RMSE         MAE       R2\n",
      "2031.524045 45.072431 1466.562713 0.977984\n"
     ]
    }
   ],
   "source": [
    "import pandas as pd\n",
    "\n",
    "# Değerleri bir sözlük yapısında sakla\n",
    "results = {'MSE': [MSE], 'RMSE': [RMSE], 'MAE': [MAE], 'R2': [R2]}\n",
    "\n",
    "# DataFrame oluştur ve index değerlerini varsayılan değerlerle ata\n",
    "CNN1_ERROR= pd.DataFrame.from_dict(results, orient='index').T\n",
    "\n",
    "# DataFrame'i ERROR ismiyle kaydet\n",
    "CNN1_ERROR = CNN1_ERROR.to_string(index=False)\n",
    "\n",
    "# ERROR'u yazdır\n",
    "\n",
    "print(CNN1_ERROR)"
   ]
  },
  {
   "cell_type": "code",
   "execution_count": null,
   "id": "c6f2d4f1",
   "metadata": {},
   "outputs": [],
   "source": []
  },
  {
   "cell_type": "code",
   "execution_count": null,
   "id": "515ddc80",
   "metadata": {},
   "outputs": [],
   "source": []
  }
 ],
 "metadata": {
  "kernelspec": {
   "display_name": "Python 3.10 (tensorflow)",
   "language": "python",
   "name": "tensorflow"
  },
  "language_info": {
   "codemirror_mode": {
    "name": "ipython",
    "version": 3
   },
   "file_extension": ".py",
   "mimetype": "text/x-python",
   "name": "python",
   "nbconvert_exporter": "python",
   "pygments_lexer": "ipython3",
   "version": "3.9.16"
  }
 },
 "nbformat": 4,
 "nbformat_minor": 5
}
