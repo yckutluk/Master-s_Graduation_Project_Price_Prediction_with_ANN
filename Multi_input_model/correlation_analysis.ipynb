{
 "cells": [
  {
   "cell_type": "code",
   "execution_count": 1,
   "id": "1ec2e671",
   "metadata": {},
   "outputs": [
    {
     "data": {
      "text/html": [
       "<div>\n",
       "<style scoped>\n",
       "    .dataframe tbody tr th:only-of-type {\n",
       "        vertical-align: middle;\n",
       "    }\n",
       "\n",
       "    .dataframe tbody tr th {\n",
       "        vertical-align: top;\n",
       "    }\n",
       "\n",
       "    .dataframe thead th {\n",
       "        text-align: right;\n",
       "    }\n",
       "</style>\n",
       "<table border=\"1\" class=\"dataframe\">\n",
       "  <thead>\n",
       "    <tr style=\"text-align: right;\">\n",
       "      <th></th>\n",
       "      <th>Date</th>\n",
       "      <th>Open</th>\n",
       "      <th>High</th>\n",
       "      <th>Low</th>\n",
       "      <th>Close</th>\n",
       "      <th>Adj Close</th>\n",
       "      <th>Volume</th>\n",
       "    </tr>\n",
       "  </thead>\n",
       "  <tbody>\n",
       "    <tr>\n",
       "      <th>0</th>\n",
       "      <td>2014-09-17</td>\n",
       "      <td>465.864014</td>\n",
       "      <td>468.174011</td>\n",
       "      <td>452.421997</td>\n",
       "      <td>457.334015</td>\n",
       "      <td>457.334015</td>\n",
       "      <td>21056800</td>\n",
       "    </tr>\n",
       "    <tr>\n",
       "      <th>1</th>\n",
       "      <td>2014-09-18</td>\n",
       "      <td>456.859985</td>\n",
       "      <td>456.859985</td>\n",
       "      <td>413.104004</td>\n",
       "      <td>424.440002</td>\n",
       "      <td>424.440002</td>\n",
       "      <td>34483200</td>\n",
       "    </tr>\n",
       "    <tr>\n",
       "      <th>2</th>\n",
       "      <td>2014-09-19</td>\n",
       "      <td>424.102997</td>\n",
       "      <td>427.834991</td>\n",
       "      <td>384.532013</td>\n",
       "      <td>394.795990</td>\n",
       "      <td>394.795990</td>\n",
       "      <td>37919700</td>\n",
       "    </tr>\n",
       "    <tr>\n",
       "      <th>3</th>\n",
       "      <td>2014-09-20</td>\n",
       "      <td>394.673004</td>\n",
       "      <td>423.295990</td>\n",
       "      <td>389.882996</td>\n",
       "      <td>408.903992</td>\n",
       "      <td>408.903992</td>\n",
       "      <td>36863600</td>\n",
       "    </tr>\n",
       "    <tr>\n",
       "      <th>4</th>\n",
       "      <td>2014-09-21</td>\n",
       "      <td>408.084991</td>\n",
       "      <td>412.425995</td>\n",
       "      <td>393.181000</td>\n",
       "      <td>398.821014</td>\n",
       "      <td>398.821014</td>\n",
       "      <td>26580100</td>\n",
       "    </tr>\n",
       "    <tr>\n",
       "      <th>...</th>\n",
       "      <td>...</td>\n",
       "      <td>...</td>\n",
       "      <td>...</td>\n",
       "      <td>...</td>\n",
       "      <td>...</td>\n",
       "      <td>...</td>\n",
       "      <td>...</td>\n",
       "    </tr>\n",
       "    <tr>\n",
       "      <th>3158</th>\n",
       "      <td>2023-05-11</td>\n",
       "      <td>27621.085938</td>\n",
       "      <td>27621.941406</td>\n",
       "      <td>26781.826172</td>\n",
       "      <td>27000.789063</td>\n",
       "      <td>27000.789063</td>\n",
       "      <td>16724343943</td>\n",
       "    </tr>\n",
       "    <tr>\n",
       "      <th>3159</th>\n",
       "      <td>2023-05-12</td>\n",
       "      <td>26987.662109</td>\n",
       "      <td>27055.646484</td>\n",
       "      <td>25878.429688</td>\n",
       "      <td>26804.990234</td>\n",
       "      <td>26804.990234</td>\n",
       "      <td>19313599897</td>\n",
       "    </tr>\n",
       "    <tr>\n",
       "      <th>3160</th>\n",
       "      <td>2023-05-13</td>\n",
       "      <td>26807.769531</td>\n",
       "      <td>27030.482422</td>\n",
       "      <td>26710.873047</td>\n",
       "      <td>26784.078125</td>\n",
       "      <td>26784.078125</td>\n",
       "      <td>9999171605</td>\n",
       "    </tr>\n",
       "    <tr>\n",
       "      <th>3161</th>\n",
       "      <td>2023-05-14</td>\n",
       "      <td>26788.974609</td>\n",
       "      <td>27150.976563</td>\n",
       "      <td>26661.355469</td>\n",
       "      <td>26930.638672</td>\n",
       "      <td>26930.638672</td>\n",
       "      <td>10014858959</td>\n",
       "    </tr>\n",
       "    <tr>\n",
       "      <th>3162</th>\n",
       "      <td>2023-05-15</td>\n",
       "      <td>26939.564453</td>\n",
       "      <td>27516.851563</td>\n",
       "      <td>26770.279297</td>\n",
       "      <td>27406.390625</td>\n",
       "      <td>27406.390625</td>\n",
       "      <td>13473703936</td>\n",
       "    </tr>\n",
       "  </tbody>\n",
       "</table>\n",
       "<p>3163 rows × 7 columns</p>\n",
       "</div>"
      ],
      "text/plain": [
       "            Date          Open          High           Low         Close   \n",
       "0     2014-09-17    465.864014    468.174011    452.421997    457.334015  \\\n",
       "1     2014-09-18    456.859985    456.859985    413.104004    424.440002   \n",
       "2     2014-09-19    424.102997    427.834991    384.532013    394.795990   \n",
       "3     2014-09-20    394.673004    423.295990    389.882996    408.903992   \n",
       "4     2014-09-21    408.084991    412.425995    393.181000    398.821014   \n",
       "...          ...           ...           ...           ...           ...   \n",
       "3158  2023-05-11  27621.085938  27621.941406  26781.826172  27000.789063   \n",
       "3159  2023-05-12  26987.662109  27055.646484  25878.429688  26804.990234   \n",
       "3160  2023-05-13  26807.769531  27030.482422  26710.873047  26784.078125   \n",
       "3161  2023-05-14  26788.974609  27150.976563  26661.355469  26930.638672   \n",
       "3162  2023-05-15  26939.564453  27516.851563  26770.279297  27406.390625   \n",
       "\n",
       "         Adj Close       Volume  \n",
       "0       457.334015     21056800  \n",
       "1       424.440002     34483200  \n",
       "2       394.795990     37919700  \n",
       "3       408.903992     36863600  \n",
       "4       398.821014     26580100  \n",
       "...            ...          ...  \n",
       "3158  27000.789063  16724343943  \n",
       "3159  26804.990234  19313599897  \n",
       "3160  26784.078125   9999171605  \n",
       "3161  26930.638672  10014858959  \n",
       "3162  27406.390625  13473703936  \n",
       "\n",
       "[3163 rows x 7 columns]"
      ]
     },
     "execution_count": 1,
     "metadata": {},
     "output_type": "execute_result"
    }
   ],
   "source": [
    "#importing the fed data\n",
    "import numpy as np\n",
    "import pandas as pd\n",
    "df1=pd.read_csv('btcusd.csv')\n",
    "df1"
   ]
  },
  {
   "cell_type": "code",
   "execution_count": 2,
   "id": "70bf77c9",
   "metadata": {},
   "outputs": [
    {
     "data": {
      "text/html": [
       "<div>\n",
       "<style scoped>\n",
       "    .dataframe tbody tr th:only-of-type {\n",
       "        vertical-align: middle;\n",
       "    }\n",
       "\n",
       "    .dataframe tbody tr th {\n",
       "        vertical-align: top;\n",
       "    }\n",
       "\n",
       "    .dataframe thead th {\n",
       "        text-align: right;\n",
       "    }\n",
       "</style>\n",
       "<table border=\"1\" class=\"dataframe\">\n",
       "  <thead>\n",
       "    <tr style=\"text-align: right;\">\n",
       "      <th></th>\n",
       "      <th>Date</th>\n",
       "      <th>Close</th>\n",
       "    </tr>\n",
       "  </thead>\n",
       "  <tbody>\n",
       "    <tr>\n",
       "      <th>0</th>\n",
       "      <td>2014-09-17</td>\n",
       "      <td>457.334015</td>\n",
       "    </tr>\n",
       "    <tr>\n",
       "      <th>1</th>\n",
       "      <td>2014-09-18</td>\n",
       "      <td>424.440002</td>\n",
       "    </tr>\n",
       "    <tr>\n",
       "      <th>2</th>\n",
       "      <td>2014-09-19</td>\n",
       "      <td>394.795990</td>\n",
       "    </tr>\n",
       "    <tr>\n",
       "      <th>3</th>\n",
       "      <td>2014-09-20</td>\n",
       "      <td>408.903992</td>\n",
       "    </tr>\n",
       "    <tr>\n",
       "      <th>4</th>\n",
       "      <td>2014-09-21</td>\n",
       "      <td>398.821014</td>\n",
       "    </tr>\n",
       "    <tr>\n",
       "      <th>...</th>\n",
       "      <td>...</td>\n",
       "      <td>...</td>\n",
       "    </tr>\n",
       "    <tr>\n",
       "      <th>3158</th>\n",
       "      <td>2023-05-11</td>\n",
       "      <td>27000.789063</td>\n",
       "    </tr>\n",
       "    <tr>\n",
       "      <th>3159</th>\n",
       "      <td>2023-05-12</td>\n",
       "      <td>26804.990234</td>\n",
       "    </tr>\n",
       "    <tr>\n",
       "      <th>3160</th>\n",
       "      <td>2023-05-13</td>\n",
       "      <td>26784.078125</td>\n",
       "    </tr>\n",
       "    <tr>\n",
       "      <th>3161</th>\n",
       "      <td>2023-05-14</td>\n",
       "      <td>26930.638672</td>\n",
       "    </tr>\n",
       "    <tr>\n",
       "      <th>3162</th>\n",
       "      <td>2023-05-15</td>\n",
       "      <td>27406.390625</td>\n",
       "    </tr>\n",
       "  </tbody>\n",
       "</table>\n",
       "<p>3163 rows × 2 columns</p>\n",
       "</div>"
      ],
      "text/plain": [
       "            Date         Close\n",
       "0     2014-09-17    457.334015\n",
       "1     2014-09-18    424.440002\n",
       "2     2014-09-19    394.795990\n",
       "3     2014-09-20    408.903992\n",
       "4     2014-09-21    398.821014\n",
       "...          ...           ...\n",
       "3158  2023-05-11  27000.789063\n",
       "3159  2023-05-12  26804.990234\n",
       "3160  2023-05-13  26784.078125\n",
       "3161  2023-05-14  26930.638672\n",
       "3162  2023-05-15  27406.390625\n",
       "\n",
       "[3163 rows x 2 columns]"
      ]
     },
     "execution_count": 2,
     "metadata": {},
     "output_type": "execute_result"
    }
   ],
   "source": [
    "df1 = df1[['Date', 'Close']]\n",
    "df1"
   ]
  },
  {
   "cell_type": "code",
   "execution_count": 3,
   "id": "6223aaf4",
   "metadata": {},
   "outputs": [
    {
     "data": {
      "text/html": [
       "<div>\n",
       "<style scoped>\n",
       "    .dataframe tbody tr th:only-of-type {\n",
       "        vertical-align: middle;\n",
       "    }\n",
       "\n",
       "    .dataframe tbody tr th {\n",
       "        vertical-align: top;\n",
       "    }\n",
       "\n",
       "    .dataframe thead th {\n",
       "        text-align: right;\n",
       "    }\n",
       "</style>\n",
       "<table border=\"1\" class=\"dataframe\">\n",
       "  <thead>\n",
       "    <tr style=\"text-align: right;\">\n",
       "      <th></th>\n",
       "      <th>Date</th>\n",
       "      <th>Currently</th>\n",
       "    </tr>\n",
       "  </thead>\n",
       "  <tbody>\n",
       "    <tr>\n",
       "      <th>0</th>\n",
       "      <td>2014-09-17</td>\n",
       "      <td>0.09</td>\n",
       "    </tr>\n",
       "    <tr>\n",
       "      <th>1</th>\n",
       "      <td>2014-09-18</td>\n",
       "      <td>0.09</td>\n",
       "    </tr>\n",
       "    <tr>\n",
       "      <th>2</th>\n",
       "      <td>2014-09-19</td>\n",
       "      <td>0.09</td>\n",
       "    </tr>\n",
       "    <tr>\n",
       "      <th>3</th>\n",
       "      <td>2014-09-20</td>\n",
       "      <td>0.09</td>\n",
       "    </tr>\n",
       "    <tr>\n",
       "      <th>4</th>\n",
       "      <td>2014-09-21</td>\n",
       "      <td>0.09</td>\n",
       "    </tr>\n",
       "    <tr>\n",
       "      <th>...</th>\n",
       "      <td>...</td>\n",
       "      <td>...</td>\n",
       "    </tr>\n",
       "    <tr>\n",
       "      <th>3158</th>\n",
       "      <td>2023-05-11</td>\n",
       "      <td>5.08</td>\n",
       "    </tr>\n",
       "    <tr>\n",
       "      <th>3159</th>\n",
       "      <td>2023-05-12</td>\n",
       "      <td>5.08</td>\n",
       "    </tr>\n",
       "    <tr>\n",
       "      <th>3160</th>\n",
       "      <td>2023-05-13</td>\n",
       "      <td>5.08</td>\n",
       "    </tr>\n",
       "    <tr>\n",
       "      <th>3161</th>\n",
       "      <td>2023-05-14</td>\n",
       "      <td>5.08</td>\n",
       "    </tr>\n",
       "    <tr>\n",
       "      <th>3162</th>\n",
       "      <td>2023-05-15</td>\n",
       "      <td>5.08</td>\n",
       "    </tr>\n",
       "  </tbody>\n",
       "</table>\n",
       "<p>3163 rows × 2 columns</p>\n",
       "</div>"
      ],
      "text/plain": [
       "            Date  Currently\n",
       "0     2014-09-17       0.09\n",
       "1     2014-09-18       0.09\n",
       "2     2014-09-19       0.09\n",
       "3     2014-09-20       0.09\n",
       "4     2014-09-21       0.09\n",
       "...          ...        ...\n",
       "3158  2023-05-11       5.08\n",
       "3159  2023-05-12       5.08\n",
       "3160  2023-05-13       5.08\n",
       "3161  2023-05-14       5.08\n",
       "3162  2023-05-15       5.08\n",
       "\n",
       "[3163 rows x 2 columns]"
      ]
     },
     "execution_count": 3,
     "metadata": {},
     "output_type": "execute_result"
    }
   ],
   "source": [
    "df2=pd.read_csv('fed_rate.csv')\n",
    "df2"
   ]
  },
  {
   "cell_type": "code",
   "execution_count": 4,
   "id": "57d6f17b",
   "metadata": {},
   "outputs": [
    {
     "name": "stdout",
     "output_type": "stream",
     "text": [
      "<class 'pandas.core.frame.DataFrame'>\n",
      "RangeIndex: 3163 entries, 0 to 3162\n",
      "Data columns (total 2 columns):\n",
      " #   Column  Non-Null Count  Dtype  \n",
      "---  ------  --------------  -----  \n",
      " 0   Date    3163 non-null   object \n",
      " 1   Close   3163 non-null   float64\n",
      "dtypes: float64(1), object(1)\n",
      "memory usage: 49.5+ KB\n"
     ]
    }
   ],
   "source": [
    "df1.info()"
   ]
  },
  {
   "cell_type": "code",
   "execution_count": 5,
   "id": "bc8186d7",
   "metadata": {},
   "outputs": [
    {
     "name": "stdout",
     "output_type": "stream",
     "text": [
      "<class 'pandas.core.frame.DataFrame'>\n",
      "RangeIndex: 3163 entries, 0 to 3162\n",
      "Data columns (total 2 columns):\n",
      " #   Column     Non-Null Count  Dtype  \n",
      "---  ------     --------------  -----  \n",
      " 0   Date       3163 non-null   object \n",
      " 1   Currently  3163 non-null   float64\n",
      "dtypes: float64(1), object(1)\n",
      "memory usage: 49.5+ KB\n"
     ]
    }
   ],
   "source": [
    "df2.info()"
   ]
  },
  {
   "cell_type": "code",
   "execution_count": 6,
   "id": "f80b193d",
   "metadata": {},
   "outputs": [
    {
     "name": "stdout",
     "output_type": "stream",
     "text": [
      "              Close  Currently\n",
      "Close      1.000000  -0.042587\n",
      "Currently -0.042587   1.000000\n"
     ]
    }
   ],
   "source": [
    "# Sadece \"Close\" ve \"Currently\" sütunlarını seç\n",
    "df1_selected = df1[['Close']]\n",
    "df2_selected = df2[['Currently']]\n",
    "\n",
    "# Veri setlerini birleştir\n",
    "merged_df = pd.concat([df1_selected, df2_selected], axis=1)\n",
    "\n",
    "# Korelasyonu hesapla\n",
    "correlation = merged_df.corr()\n",
    "\n",
    "# Sonucu görüntüle\n",
    "print(correlation)"
   ]
  },
  {
   "cell_type": "code",
   "execution_count": 7,
   "id": "5a30258e",
   "metadata": {},
   "outputs": [],
   "source": [
    "# Sadece \"Date\" ve \"Close\" sütunlarını seç\n",
    "df1_selected = df1[['Date', 'Close']]\n",
    "df2_selected = df2[['Date', 'Currently']]\n",
    "\n",
    "# Veri setlerini birleştir\n",
    "merged_df2 = pd.merge(df1_selected, df2_selected, on='Date')\n",
    "\n",
    "merged_df2\n",
    "# merged_df'yi CSV olarak kaydet\n",
    "merged_df2.to_csv('merged2_data.csv', index=False)"
   ]
  },
  {
   "cell_type": "code",
   "execution_count": 8,
   "id": "7748ff0f",
   "metadata": {},
   "outputs": [
    {
     "data": {
      "image/png": "[encoded data removed]",
      "text/plain": [
       "<Figure size 432x288 with 1 Axes>"
      ]
     },
     "metadata": {
      "needs_background": "light"
     },
     "output_type": "display_data"
    }
   ],
   "source": [
    "# Scatter plot (nokta grafiği) oluştur\n",
    "\n",
    "import pandas as pd\n",
    "import matplotlib.pyplot as plt\n",
    "plt.scatter(merged_df['Close'], merged_df['Currently'])\n",
    "plt.xlabel('Close')\n",
    "plt.ylabel('Currently')\n",
    "plt.title('Close vs Currently Scatter Plot')\n",
    "plt.show()"
   ]
  },
  {
   "cell_type": "code",
   "execution_count": 9,
   "id": "f4c6edad",
   "metadata": {},
   "outputs": [],
   "source": [
    "df1_selected = df1[['Date', 'Close']]\n",
    "df2_selected = df2[['Date', 'Currently']]\n",
    "\n",
    "# Veri setlerini birleştir\n",
    "merged_df1 = pd.merge(df1_selected, df2_selected, on='Date')"
   ]
  },
  {
   "cell_type": "code",
   "execution_count": 10,
   "id": "8359aca1",
   "metadata": {},
   "outputs": [
    {
     "data": {
      "text/html": [
       "<div>\n",
       "<style scoped>\n",
       "    .dataframe tbody tr th:only-of-type {\n",
       "        vertical-align: middle;\n",
       "    }\n",
       "\n",
       "    .dataframe tbody tr th {\n",
       "        vertical-align: top;\n",
       "    }\n",
       "\n",
       "    .dataframe thead th {\n",
       "        text-align: right;\n",
       "    }\n",
       "</style>\n",
       "<table border=\"1\" class=\"dataframe\">\n",
       "  <thead>\n",
       "    <tr style=\"text-align: right;\">\n",
       "      <th></th>\n",
       "      <th>Date</th>\n",
       "      <th>Close</th>\n",
       "      <th>Currently</th>\n",
       "    </tr>\n",
       "  </thead>\n",
       "  <tbody>\n",
       "    <tr>\n",
       "      <th>0</th>\n",
       "      <td>2014-09-17</td>\n",
       "      <td>457.334015</td>\n",
       "      <td>0.09</td>\n",
       "    </tr>\n",
       "    <tr>\n",
       "      <th>1</th>\n",
       "      <td>2014-09-18</td>\n",
       "      <td>424.440002</td>\n",
       "      <td>0.09</td>\n",
       "    </tr>\n",
       "    <tr>\n",
       "      <th>2</th>\n",
       "      <td>2014-09-19</td>\n",
       "      <td>394.795990</td>\n",
       "      <td>0.09</td>\n",
       "    </tr>\n",
       "    <tr>\n",
       "      <th>3</th>\n",
       "      <td>2014-09-20</td>\n",
       "      <td>408.903992</td>\n",
       "      <td>0.09</td>\n",
       "    </tr>\n",
       "    <tr>\n",
       "      <th>4</th>\n",
       "      <td>2014-09-21</td>\n",
       "      <td>398.821014</td>\n",
       "      <td>0.09</td>\n",
       "    </tr>\n",
       "    <tr>\n",
       "      <th>...</th>\n",
       "      <td>...</td>\n",
       "      <td>...</td>\n",
       "      <td>...</td>\n",
       "    </tr>\n",
       "    <tr>\n",
       "      <th>3158</th>\n",
       "      <td>2023-05-11</td>\n",
       "      <td>27000.789063</td>\n",
       "      <td>5.08</td>\n",
       "    </tr>\n",
       "    <tr>\n",
       "      <th>3159</th>\n",
       "      <td>2023-05-12</td>\n",
       "      <td>26804.990234</td>\n",
       "      <td>5.08</td>\n",
       "    </tr>\n",
       "    <tr>\n",
       "      <th>3160</th>\n",
       "      <td>2023-05-13</td>\n",
       "      <td>26784.078125</td>\n",
       "      <td>5.08</td>\n",
       "    </tr>\n",
       "    <tr>\n",
       "      <th>3161</th>\n",
       "      <td>2023-05-14</td>\n",
       "      <td>26930.638672</td>\n",
       "      <td>5.08</td>\n",
       "    </tr>\n",
       "    <tr>\n",
       "      <th>3162</th>\n",
       "      <td>2023-05-15</td>\n",
       "      <td>27406.390625</td>\n",
       "      <td>5.08</td>\n",
       "    </tr>\n",
       "  </tbody>\n",
       "</table>\n",
       "<p>3163 rows × 3 columns</p>\n",
       "</div>"
      ],
      "text/plain": [
       "            Date         Close  Currently\n",
       "0     2014-09-17    457.334015       0.09\n",
       "1     2014-09-18    424.440002       0.09\n",
       "2     2014-09-19    394.795990       0.09\n",
       "3     2014-09-20    408.903992       0.09\n",
       "4     2014-09-21    398.821014       0.09\n",
       "...          ...           ...        ...\n",
       "3158  2023-05-11  27000.789063       5.08\n",
       "3159  2023-05-12  26804.990234       5.08\n",
       "3160  2023-05-13  26784.078125       5.08\n",
       "3161  2023-05-14  26930.638672       5.08\n",
       "3162  2023-05-15  27406.390625       5.08\n",
       "\n",
       "[3163 rows x 3 columns]"
      ]
     },
     "execution_count": 10,
     "metadata": {},
     "output_type": "execute_result"
    }
   ],
   "source": [
    "merged_df1"
   ]
  },
  {
   "cell_type": "code",
   "execution_count": 11,
   "id": "4a75f51a",
   "metadata": {},
   "outputs": [],
   "source": [
    "merged_df1['Date'] = pd.to_datetime(merged_df1['Date'])\n"
   ]
  },
  {
   "cell_type": "code",
   "execution_count": 12,
   "id": "a9921c7c",
   "metadata": {},
   "outputs": [],
   "source": [
    "merged_df1.set_index('Date', inplace=True)\n"
   ]
  },
  {
   "cell_type": "code",
   "execution_count": 13,
   "id": "88032202",
   "metadata": {},
   "outputs": [
    {
     "data": {
      "image/png": "[encoded data removed]",
      "text/plain": [
       "<Figure size 864x432 with 1 Axes>"
      ]
     },
     "metadata": {
      "needs_background": "light"
     },
     "output_type": "display_data"
    }
   ],
   "source": [
    "merged_df['Close'].plot(figsize=(12, 6), label='Close')\n",
    "merged_df['Currently'].plot(figsize=(12, 6), label='Currently')\n",
    "plt.xlabel('Date')\n",
    "plt.ylabel('Value')\n",
    "plt.title('Close and Currently Over Time')\n",
    "plt.legend()\n",
    "plt.show()\n"
   ]
  },
  {
   "cell_type": "code",
   "execution_count": 14,
   "id": "8a9bd7ae",
   "metadata": {},
   "outputs": [
    {
     "name": "stdout",
     "output_type": "stream",
     "text": [
      "Korelasyon katsayısı: -0.04258717613109304\n",
      "P değeri: 0.016608295393259045\n"
     ]
    }
   ],
   "source": [
    "import pandas as pd\n",
    "from scipy.stats import pearsonr\n",
    "# Pearson korelasyon testi\n",
    "corr, p_value = pearsonr(merged_df['Close'], merged_df['Currently'])\n",
    "\n",
    "print(\"Korelasyon katsayısı:\", corr)\n",
    "print(\"P değeri:\", p_value)\n"
   ]
  },
  {
   "cell_type": "markdown",
   "id": "b8a8fbb8",
   "metadata": {},
   "source": [
    "sonuçlara göre, \"Close\" ve \"Currently\" sütunları arasındaki ilişki zayıf ve negatif bir korelasyon sergilemektedir. Korelasyon katsayısı -0.042587 olarak bulunmuştur, bu da değişkenler arasında çok zayıf bir ters yönlü ilişki olduğunu gösterir.\n",
    "\n",
    "P değeri ise 0.0166 olarak bulunmuştur. P değeri, ilişkinin istatistiksel olarak anlamlı olup olmadığını gösterir. 0.0166 p değeri, kabul edilebilir bir anlamlılık düzeyi olan 0.05'ten küçüktür. Bu nedenle, \"Close\" ve \"Currently\" sütunları arasındaki korelasyonun istatistiksel olarak anlamlı olduğu söylenebilir.\n",
    "\n",
    "Sonuç olarak, verilerinizde zayıf ve negatif bir ilişki olduğu ve bu ilişkinin istatistiksel olarak anlamlı olduğu görülmektedir"
   ]
  },
  {
   "cell_type": "code",
   "execution_count": 15,
   "id": "a46d5862",
   "metadata": {},
   "outputs": [
    {
     "name": "stdout",
     "output_type": "stream",
     "text": [
      "Hipotez reddedildi. İki değişken arasında anlamlı bir ilişki vardır.\n"
     ]
    }
   ],
   "source": [
    "#Korelasyon Hipotez Testi (Pearson Korelasyon Katsayısı):\n",
    "alpha = 0.05  # Anlamlılık düzeyi\n",
    "if p_value < alpha:\n",
    "    print(\"Hipotez reddedildi. İki değişken arasında anlamlı bir ilişki vardır.\")\n",
    "else:\n",
    "    print(\"Hipotez kabul edildi. İki değişken arasında anlamlı bir ilişki yoktur.\")"
   ]
  },
  {
   "cell_type": "code",
   "execution_count": 16,
   "id": "178672bc",
   "metadata": {},
   "outputs": [
    {
     "name": "stdout",
     "output_type": "stream",
     "text": [
      "Hipotez reddedildi. İki değişken arasında anlamlı bir fark vardır.\n"
     ]
    }
   ],
   "source": [
    "# İki örnekli t-testi\n",
    "import pandas as pd\n",
    "from scipy.stats import ttest_ind\n",
    "t_stat, p_value = ttest_ind(merged_df['Close'], merged_df['Currently'])\n",
    "\n",
    "# Hipotez testi sonuçları\n",
    "alpha = 0.05  # Anlamlılık düzeyi\n",
    "if p_value < alpha:\n",
    "    print(\"Hipotez reddedildi. İki değişken arasında anlamlı bir fark vardır.\")\n",
    "else:\n",
    "    print(\"Hipotez kabul edildi. İki değişken arasında anlamlı bir fark yoktur.\")"
   ]
  },
  {
   "cell_type": "code",
   "execution_count": null,
   "id": "352e392f",
   "metadata": {},
   "outputs": [],
   "source": []
  },
  {
   "cell_type": "code",
   "execution_count": null,
   "id": "43dd7cc8",
   "metadata": {},
   "outputs": [],
   "source": []
  }
 ],
 "metadata": {
  "kernelspec": {
   "display_name": "Python 3.10 (tensorflow)",
   "language": "python",
   "name": "tensorflow"
  },
  "language_info": {
   "codemirror_mode": {
    "name": "ipython",
    "version": 3
   },
   "file_extension": ".py",
   "mimetype": "text/x-python",
   "name": "python",
   "nbconvert_exporter": "python",
   "pygments_lexer": "ipython3",
   "version": "3.9.16"
  }
 },
 "nbformat": 4,
 "nbformat_minor": 5
}
