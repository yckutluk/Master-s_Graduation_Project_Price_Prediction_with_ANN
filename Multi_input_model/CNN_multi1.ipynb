{
 "cells": [
  {
   "cell_type": "markdown",
   "id": "42aa0e18",
   "metadata": {},
   "source": [
    "<h1 style=\"font-size:36px;\">Convolutional Neural Network(CNN)</h1>"
   ]
  },
  {
   "cell_type": "markdown",
   "id": "25e40c8e",
   "metadata": {},
   "source": [
    "CNN architecture includes several convolutional layers followed by several fully connected layers. A matrix of Bitcoin price data over the time range is used as input. Convolutional layers create feature maps by acting on the input matrix of the filters. Fully connected layers flatten the feature maps and render them into the output layer. When this architecture is used for Bitcoin price prediction, it allows to learn visual features of historical price data and use these features to predict future prices.\n",
    "\n",
    "CNN mimarisi, birkaç evrişimli katman ve ardından birkaç tam bağlantılı katman içerir. Girdi olarak, zaman aralığındaki Bitcoin fiyat verilerinin bir matrisi kullanılır. Evrişimli katmanlar, filtrelerin girdi matrisi üzerinde hareket ederek özellik haritalarını oluşturur. Tam bağlantılı katmanlar, özellik haritalarını düzleştirir ve çıktı katmanına doğru işler. Bu mimari, Bitcoin fiyat tahmini için kullanıldığında, geçmiş fiyat verilerinin görsel özelliklerini öğrenmeyi ve bu özelliklerin gelecekteki fiyatları tahmin etmek için kullanılmasını sağlar."
   ]
  },
  {
   "cell_type": "markdown",
   "id": "9e9b19d6",
   "metadata": {},
   "source": [
    "Model 1 uses a Conv1D layer with 58 input properties and then halves the size using a MaxPooling1D layer. It then creates an intermediate output using a Dense layer, and finally uses a Dense layer containing a single output neuron, the output layer. Model 1 has 104,761 trainable parameters.\n",
    "\n",
    "Model 1, 58 adet girdi özelliğine sahip bir Conv1D katmanı kullanır ve ardından bir MaxPooling1D katmanı kullanarak boyutu yarıya indirir. Daha sonra, bir Yoğun katmanı kullanarak bir ara çıktı oluşturur ve son olarak, çıkış katmanı olan tek bir çıktı nöronu içeren bir Yoğun katman kullanır. Model 1, 104,761 eğitilebilir parametreye sahiptir."
   ]
  },
  {
   "cell_type": "markdown",
   "id": "529fe4c2",
   "metadata": {},
   "source": [
    "\n",
    "\n",
    "\n",
    "\n",
    "\n",
    "\n",
    "\n",
    "\n"
   ]
  },
  {
   "cell_type": "markdown",
   "id": "69a0b260",
   "metadata": {},
   "source": [
    "\n",
    "\n"
   ]
  },
  {
   "cell_type": "markdown",
   "id": "ab392b9a",
   "metadata": {},
   "source": [
    "\n",
    "\n"
   ]
  },
  {
   "cell_type": "markdown",
   "id": "f44bf5c1",
   "metadata": {},
   "source": [
    "\n",
    "<h3 style=\"font-size:24px;\">Data preprocessing and Preparation</h3>"
   ]
  },
  {
   "cell_type": "code",
   "execution_count": 20,
   "id": "abff19f2",
   "metadata": {},
   "outputs": [],
   "source": [
    "\n",
    "\n",
    "import pandas as pd\n",
    "import numpy as np\n",
    "import matplotlib.pyplot as plt\n",
    "from sklearn.preprocessing import StandardScaler\n",
    "from keras.models import Sequential\n",
    "from keras.layers import Dense\n",
    "from keras.layers import Flatten\n",
    "from keras.layers.convolutional import Conv1D\n",
    "from keras.layers.convolutional import MaxPooling1D\n",
    "from sklearn.metrics import mean_squared_error\n",
    "from keras.callbacks import History\n",
    "import math\n",
    "import yfinance as yf"
   ]
  },
  {
   "cell_type": "code",
   "execution_count": 21,
   "id": "9904fd0c",
   "metadata": {},
   "outputs": [
    {
     "data": {
      "text/plain": [
       "array([  457.334015,   424.440002,   394.79599 , ..., 26784.078125,\n",
       "       26930.638672, 27406.390625])"
      ]
     },
     "execution_count": 21,
     "metadata": {},
     "output_type": "execute_result"
    }
   ],
   "source": [
    "# Veri setini yükleyin\n",
    "btc = pd.read_csv(\"merged2_data.csv\")\n",
    "\n",
    "# \"Close\" değişkenini alın\n",
    "close_btc= btc[\"Close\"].values\n",
    "\n",
    "close_btc = btc.Close.values\n",
    "close_btc     "
   ]
  },
  {
   "cell_type": "code",
   "execution_count": 22,
   "id": "ea9dd61d",
   "metadata": {},
   "outputs": [],
   "source": [
    "btc.reset_index(inplace=True)"
   ]
  },
  {
   "cell_type": "code",
   "execution_count": 23,
   "id": "c1cddf3c",
   "metadata": {},
   "outputs": [
    {
     "data": {
      "text/html": [
       "<div>\n",
       "<style scoped>\n",
       "    .dataframe tbody tr th:only-of-type {\n",
       "        vertical-align: middle;\n",
       "    }\n",
       "\n",
       "    .dataframe tbody tr th {\n",
       "        vertical-align: top;\n",
       "    }\n",
       "\n",
       "    .dataframe thead th {\n",
       "        text-align: right;\n",
       "    }\n",
       "</style>\n",
       "<table border=\"1\" class=\"dataframe\">\n",
       "  <thead>\n",
       "    <tr style=\"text-align: right;\">\n",
       "      <th></th>\n",
       "      <th>index</th>\n",
       "      <th>Date</th>\n",
       "      <th>Close</th>\n",
       "      <th>Currently</th>\n",
       "    </tr>\n",
       "  </thead>\n",
       "  <tbody>\n",
       "    <tr>\n",
       "      <th>0</th>\n",
       "      <td>0</td>\n",
       "      <td>2014-09-17</td>\n",
       "      <td>457.334015</td>\n",
       "      <td>0.09</td>\n",
       "    </tr>\n",
       "    <tr>\n",
       "      <th>1</th>\n",
       "      <td>1</td>\n",
       "      <td>2014-09-18</td>\n",
       "      <td>424.440002</td>\n",
       "      <td>0.09</td>\n",
       "    </tr>\n",
       "    <tr>\n",
       "      <th>2</th>\n",
       "      <td>2</td>\n",
       "      <td>2014-09-19</td>\n",
       "      <td>394.795990</td>\n",
       "      <td>0.09</td>\n",
       "    </tr>\n",
       "    <tr>\n",
       "      <th>3</th>\n",
       "      <td>3</td>\n",
       "      <td>2014-09-20</td>\n",
       "      <td>408.903992</td>\n",
       "      <td>0.09</td>\n",
       "    </tr>\n",
       "    <tr>\n",
       "      <th>4</th>\n",
       "      <td>4</td>\n",
       "      <td>2014-09-21</td>\n",
       "      <td>398.821014</td>\n",
       "      <td>0.09</td>\n",
       "    </tr>\n",
       "    <tr>\n",
       "      <th>...</th>\n",
       "      <td>...</td>\n",
       "      <td>...</td>\n",
       "      <td>...</td>\n",
       "      <td>...</td>\n",
       "    </tr>\n",
       "    <tr>\n",
       "      <th>3158</th>\n",
       "      <td>3158</td>\n",
       "      <td>2023-05-11</td>\n",
       "      <td>27000.789063</td>\n",
       "      <td>5.08</td>\n",
       "    </tr>\n",
       "    <tr>\n",
       "      <th>3159</th>\n",
       "      <td>3159</td>\n",
       "      <td>2023-05-12</td>\n",
       "      <td>26804.990234</td>\n",
       "      <td>5.08</td>\n",
       "    </tr>\n",
       "    <tr>\n",
       "      <th>3160</th>\n",
       "      <td>3160</td>\n",
       "      <td>2023-05-13</td>\n",
       "      <td>26784.078125</td>\n",
       "      <td>5.08</td>\n",
       "    </tr>\n",
       "    <tr>\n",
       "      <th>3161</th>\n",
       "      <td>3161</td>\n",
       "      <td>2023-05-14</td>\n",
       "      <td>26930.638672</td>\n",
       "      <td>5.08</td>\n",
       "    </tr>\n",
       "    <tr>\n",
       "      <th>3162</th>\n",
       "      <td>3162</td>\n",
       "      <td>2023-05-15</td>\n",
       "      <td>27406.390625</td>\n",
       "      <td>5.08</td>\n",
       "    </tr>\n",
       "  </tbody>\n",
       "</table>\n",
       "<p>3163 rows × 4 columns</p>\n",
       "</div>"
      ],
      "text/plain": [
       "      index        Date         Close  Currently\n",
       "0         0  2014-09-17    457.334015       0.09\n",
       "1         1  2014-09-18    424.440002       0.09\n",
       "2         2  2014-09-19    394.795990       0.09\n",
       "3         3  2014-09-20    408.903992       0.09\n",
       "4         4  2014-09-21    398.821014       0.09\n",
       "...     ...         ...           ...        ...\n",
       "3158   3158  2023-05-11  27000.789063       5.08\n",
       "3159   3159  2023-05-12  26804.990234       5.08\n",
       "3160   3160  2023-05-13  26784.078125       5.08\n",
       "3161   3161  2023-05-14  26930.638672       5.08\n",
       "3162   3162  2023-05-15  27406.390625       5.08\n",
       "\n",
       "[3163 rows x 4 columns]"
      ]
     },
     "execution_count": 23,
     "metadata": {},
     "output_type": "execute_result"
    }
   ],
   "source": [
    "btc"
   ]
  },
  {
   "cell_type": "code",
   "execution_count": 24,
   "id": "feb7700b",
   "metadata": {},
   "outputs": [],
   "source": [
    "\n",
    "X = []\n",
    "y = []\n",
    "inp_num = 60\n",
    "\n",
    "for i in range(inp_num, len(close_btc)):\n",
    "    X.append(close_btc[i-inp_num:i])\n",
    "    y.append(close_btc[i])\n",
    "\n",
    "X = np.array(X)\n",
    "y = np.array(y)"
   ]
  },
  {
   "cell_type": "code",
   "execution_count": 25,
   "id": "06169551",
   "metadata": {},
   "outputs": [],
   "source": [
    "split = int(len(X) * 0.8)\n",
    "X_train = X[:split]\n",
    "y_train = np.array(y[:split])\n",
    "X_test = X[split:]\n",
    "y_test = np.array(y[split:])"
   ]
  },
  {
   "cell_type": "code",
   "execution_count": 26,
   "id": "f7c0eb0d",
   "metadata": {},
   "outputs": [],
   "source": [
    "\n",
    "sc = StandardScaler()\n",
    "X_train = sc.fit_transform(X_train)\n",
    "X_test = sc.transform(X_test)\n",
    "\n",
    "X_train = np.reshape(X_train, (X_train.shape[0], X_train.shape[1], 1))\n",
    "X_test = np.reshape(X_test, (X_test.shape[0], X_test.shape[1], 1))"
   ]
  },
  {
   "cell_type": "code",
   "execution_count": 27,
   "id": "407e5604",
   "metadata": {},
   "outputs": [],
   "source": [
    "model = Sequential() \n",
    "model.add(Conv1D(filters=64, kernel_size=5, activation = \"relu\", input_shape=(inp_num, 1)))\n",
    "model.add(MaxPooling1D(pool_size=2))\n",
    "model.add(Flatten())\n",
    "model.add(Dense(60, activation=\"relu\"))\n",
    "model.add(Dense(1))\n",
    "\n",
    "model.compile(optimizer=\"adam\", loss=\"mse\")"
   ]
  },
  {
   "cell_type": "code",
   "execution_count": 28,
   "id": "8cb6a0c0",
   "metadata": {},
   "outputs": [
    {
     "name": "stdout",
     "output_type": "stream",
     "text": [
      "Model: \"sequential_1\"\n",
      "_________________________________________________________________\n",
      " Layer (type)                Output Shape              Param #   \n",
      "=================================================================\n",
      " conv1d_1 (Conv1D)           (None, 56, 64)            384       \n",
      "                                                                 \n",
      " max_pooling1d_1 (MaxPooling  (None, 28, 64)           0         \n",
      " 1D)                                                             \n",
      "                                                                 \n",
      " flatten_1 (Flatten)         (None, 1792)              0         \n",
      "                                                                 \n",
      " dense_2 (Dense)             (None, 60)                107580    \n",
      "                                                                 \n",
      " dense_3 (Dense)             (None, 1)                 61        \n",
      "                                                                 \n",
      "=================================================================\n",
      "Total params: 108,025\n",
      "Trainable params: 108,025\n",
      "Non-trainable params: 0\n",
      "_________________________________________________________________\n"
     ]
    }
   ],
   "source": [
    "model.summary()"
   ]
  },
  {
   "cell_type": "code",
   "execution_count": 29,
   "id": "b5562c1f",
   "metadata": {},
   "outputs": [
    {
     "name": "stdout",
     "output_type": "stream",
     "text": [
      "Epoch 1/50\n",
      "78/78 [==============================] - 0s 2ms/step - loss: 244137152.0000\n",
      "Epoch 2/50\n",
      "78/78 [==============================] - 0s 2ms/step - loss: 212204384.0000\n",
      "Epoch 3/50\n",
      "78/78 [==============================] - 0s 2ms/step - loss: 129152976.0000\n",
      "Epoch 4/50\n",
      "78/78 [==============================] - 0s 2ms/step - loss: 37393092.0000\n",
      "Epoch 5/50\n",
      "78/78 [==============================] - 0s 2ms/step - loss: 17512314.0000\n",
      "Epoch 6/50\n",
      "78/78 [==============================] - 0s 2ms/step - loss: 15848023.0000\n",
      "Epoch 7/50\n",
      "78/78 [==============================] - 0s 2ms/step - loss: 14869709.0000\n",
      "Epoch 8/50\n",
      "78/78 [==============================] - 0s 2ms/step - loss: 14126919.0000\n",
      "Epoch 9/50\n",
      "78/78 [==============================] - 0s 2ms/step - loss: 13481121.0000\n",
      "Epoch 10/50\n",
      "78/78 [==============================] - 0s 2ms/step - loss: 12824913.0000\n",
      "Epoch 11/50\n",
      "78/78 [==============================] - 0s 2ms/step - loss: 12250863.0000\n",
      "Epoch 12/50\n",
      "78/78 [==============================] - 0s 2ms/step - loss: 11722756.0000\n",
      "Epoch 13/50\n",
      "78/78 [==============================] - 0s 2ms/step - loss: 11215885.0000\n",
      "Epoch 14/50\n",
      "78/78 [==============================] - 0s 2ms/step - loss: 10729773.0000\n",
      "Epoch 15/50\n",
      "78/78 [==============================] - 0s 2ms/step - loss: 10330738.0000\n",
      "Epoch 16/50\n",
      "78/78 [==============================] - 0s 2ms/step - loss: 9927982.0000\n",
      "Epoch 17/50\n",
      "78/78 [==============================] - 0s 2ms/step - loss: 9624122.0000\n",
      "Epoch 18/50\n",
      "78/78 [==============================] - 0s 2ms/step - loss: 9196878.0000\n",
      "Epoch 19/50\n",
      "78/78 [==============================] - 0s 2ms/step - loss: 8953203.0000\n",
      "Epoch 20/50\n",
      "78/78 [==============================] - 0s 2ms/step - loss: 8578166.0000\n",
      "Epoch 21/50\n",
      "78/78 [==============================] - 0s 2ms/step - loss: 8325147.0000\n",
      "Epoch 22/50\n",
      "78/78 [==============================] - 0s 2ms/step - loss: 8030862.5000\n",
      "Epoch 23/50\n",
      "78/78 [==============================] - 0s 2ms/step - loss: 7889560.0000\n",
      "Epoch 24/50\n",
      "78/78 [==============================] - 0s 2ms/step - loss: 7557503.5000\n",
      "Epoch 25/50\n",
      "78/78 [==============================] - 0s 2ms/step - loss: 7307389.5000\n",
      "Epoch 26/50\n",
      "78/78 [==============================] - 0s 2ms/step - loss: 7150579.5000\n",
      "Epoch 27/50\n",
      "78/78 [==============================] - 0s 2ms/step - loss: 6801445.0000\n",
      "Epoch 28/50\n",
      "78/78 [==============================] - 0s 2ms/step - loss: 6551889.0000\n",
      "Epoch 29/50\n",
      "78/78 [==============================] - 0s 2ms/step - loss: 6436533.5000\n",
      "Epoch 30/50\n",
      "78/78 [==============================] - 0s 2ms/step - loss: 6329854.0000\n",
      "Epoch 31/50\n",
      "78/78 [==============================] - 0s 2ms/step - loss: 5953934.5000\n",
      "Epoch 32/50\n",
      "78/78 [==============================] - 0s 2ms/step - loss: 5800098.0000\n",
      "Epoch 33/50\n",
      "78/78 [==============================] - 0s 2ms/step - loss: 5638146.5000\n",
      "Epoch 34/50\n",
      "78/78 [==============================] - 0s 2ms/step - loss: 5360826.0000\n",
      "Epoch 35/50\n",
      "78/78 [==============================] - 0s 2ms/step - loss: 5270806.0000\n",
      "Epoch 36/50\n",
      "78/78 [==============================] - 0s 2ms/step - loss: 5020352.5000\n",
      "Epoch 37/50\n",
      "78/78 [==============================] - 0s 2ms/step - loss: 4829062.0000\n",
      "Epoch 38/50\n",
      "78/78 [==============================] - 0s 2ms/step - loss: 4652908.5000\n",
      "Epoch 39/50\n",
      "78/78 [==============================] - 0s 2ms/step - loss: 4546130.0000\n",
      "Epoch 40/50\n",
      "78/78 [==============================] - 0s 2ms/step - loss: 4395374.5000\n",
      "Epoch 41/50\n",
      "78/78 [==============================] - 0s 2ms/step - loss: 4225897.0000\n",
      "Epoch 42/50\n",
      "78/78 [==============================] - 0s 2ms/step - loss: 4115851.2500\n",
      "Epoch 43/50\n",
      "78/78 [==============================] - 0s 2ms/step - loss: 3936497.0000\n",
      "Epoch 44/50\n",
      "78/78 [==============================] - 0s 2ms/step - loss: 3804205.5000\n",
      "Epoch 45/50\n",
      "78/78 [==============================] - 0s 2ms/step - loss: 3665512.0000\n",
      "Epoch 46/50\n",
      "78/78 [==============================] - 0s 2ms/step - loss: 3581236.5000\n",
      "Epoch 47/50\n",
      "78/78 [==============================] - 0s 2ms/step - loss: 3446580.5000\n",
      "Epoch 48/50\n",
      "78/78 [==============================] - 0s 2ms/step - loss: 3409401.5000\n",
      "Epoch 49/50\n",
      "78/78 [==============================] - 0s 2ms/step - loss: 3373296.0000\n",
      "Epoch 50/50\n",
      "78/78 [==============================] - 0s 2ms/step - loss: 3275964.0000\n"
     ]
    },
    {
     "data": {
      "text/plain": [
       "<keras.callbacks.History at 0x173b91880>"
      ]
     },
     "execution_count": 29,
     "metadata": {},
     "output_type": "execute_result"
    }
   ],
   "source": [
    "\n",
    "hist = History() # Used to record loss per epoch\n",
    "model.fit(X_train, y_train, epochs=50, batch_size = 32, callbacks=[hist])"
   ]
  },
  {
   "cell_type": "code",
   "execution_count": 30,
   "id": "515e65ed",
   "metadata": {},
   "outputs": [
    {
     "data": {
      "image/png": "[encoded data removed]",
      "text/plain": [
       "<Figure size 432x288 with 1 Axes>"
      ]
     },
     "metadata": {
      "needs_background": "light"
     },
     "output_type": "display_data"
    }
   ],
   "source": [
    "losses = hist.history['loss']\n",
    "plt.plot(np.arange(1, len(losses) + 1),losses)\n",
    "plt.title(\"Losses By Epoch\")\n",
    "plt.xlabel(\"Epoch\")\n",
    "plt.ylabel(\"Losses\")\n",
    "plt.show()"
   ]
  },
  {
   "cell_type": "code",
   "execution_count": 31,
   "id": "0230e181",
   "metadata": {},
   "outputs": [
    {
     "name": "stdout",
     "output_type": "stream",
     "text": [
      "20/20 [==============================] - 0s 840us/step\n"
     ]
    }
   ],
   "source": [
    "\n",
    "yhat = model.predict(X_test)\n",
    "yhat = yhat.reshape(yhat.shape[0],)"
   ]
  },
  {
   "cell_type": "code",
   "execution_count": 32,
   "id": "82b2cbd0",
   "metadata": {},
   "outputs": [
    {
     "name": "stdout",
     "output_type": "stream",
     "text": [
      "RMSE = 3239.5579608379544\n"
     ]
    }
   ],
   "source": [
    "\n",
    "mse = math.sqrt(mean_squared_error(y_test, yhat))\n",
    "print(\"RMSE = \" + str(mse))"
   ]
  },
  {
   "cell_type": "code",
   "execution_count": 33,
   "id": "795f7266",
   "metadata": {},
   "outputs": [
    {
     "data": {
      "image/png": "[encoded data removed]",
      "text/plain": [
       "<Figure size 1440x720 with 1 Axes>"
      ]
     },
     "metadata": {
      "needs_background": "light"
     },
     "output_type": "display_data"
    }
   ],
   "source": [
    "plt.figure(figsize=(20,10))\n",
    "plt.plot(y_test, color=\"red\", label=\"Actual\")\n",
    "plt.plot(yhat, color = \"blue\", label = \"Predicted\")\n",
    "plt.title(\"BTC Close Stock Prices\")\n",
    "plt.xlabel(\"Time\")\n",
    "plt.ylabel(\"Stock Price\")\n",
    "plt.legend()\n",
    "plt.show()"
   ]
  },
  {
   "cell_type": "code",
   "execution_count": 34,
   "id": "8c396a7b",
   "metadata": {},
   "outputs": [
    {
     "name": "stdout",
     "output_type": "stream",
     "text": [
      "3239.5579608379544\n",
      "56.91711483234155\n"
     ]
    }
   ],
   "source": [
    "import pandas as pd\n",
    "from sklearn.metrics import mean_squared_error, r2_score, mean_absolute_error\n",
    "MSE = math.sqrt(mean_squared_error(y_test, yhat))\n",
    "RMSE =np.sqrt(mse)\n",
    "print(MSE)\n",
    "print(RMSE)"
   ]
  },
  {
   "cell_type": "code",
   "execution_count": 35,
   "id": "979e1085",
   "metadata": {},
   "outputs": [
    {
     "name": "stdout",
     "output_type": "stream",
     "text": [
      "MAE: 2391.9852493266912\n",
      "R2: 0.9427432325188368\n"
     ]
    }
   ],
   "source": [
    "from sklearn.metrics import mean_absolute_error\n",
    "from sklearn.metrics import r2_score\n",
    "MAE = mean_absolute_error(y_test, yhat)\n",
    "print('MAE:', MAE)\n",
    "R2 = r2_score(y_test, yhat)\n",
    "print('R2:', R2)"
   ]
  },
  {
   "cell_type": "code",
   "execution_count": 36,
   "id": "bed60121",
   "metadata": {},
   "outputs": [
    {
     "name": "stdout",
     "output_type": "stream",
     "text": [
      "        MSE      RMSE         MAE       R2\n",
      "3239.557961 56.917115 2391.985249 0.942743\n"
     ]
    }
   ],
   "source": [
    "import pandas as pd\n",
    "\n",
    "# Değerleri bir sözlük yapısında sakla\n",
    "results = {'MSE': [MSE], 'RMSE': [RMSE], 'MAE': [MAE], 'R2': [R2]}\n",
    "\n",
    "# DataFrame oluştur ve index değerlerini varsayılan değerlerle ata\n",
    "CNN1_ERROR= pd.DataFrame.from_dict(results, orient='index').T\n",
    "\n",
    "# DataFrame'i ERROR ismiyle kaydet\n",
    "CNN1_ERROR = CNN1_ERROR.to_string(index=False)\n",
    "\n",
    "# ERROR'u yazdır\n",
    "\n",
    "print(CNN1_ERROR)"
   ]
  },
  {
   "cell_type": "code",
   "execution_count": 37,
   "id": "c6f2d4f1",
   "metadata": {},
   "outputs": [],
   "source": [
    "import pandas as pd\n",
    "\n",
    "# Değerleri bir sözlük yapısında sakla\n",
    "results = {'MSE': [MSE], 'RMSE': [RMSE], 'MAE': [MAE], 'R2': [R2]}\n",
    "\n",
    "# DataFrame oluştur ve index değerlerini varsayılan değerlerle ata\n",
    "CNN1_ERROR = pd.DataFrame.from_dict(results, orient='index').T\n",
    "\n",
    "# Çıktıyı metin dosyasına aktar\n",
    "output_text = CNN1_ERROR.to_string(index=False)\n",
    "\n",
    "# Metin dosyasını kaydet\n",
    "with open('CNN1_ERROR.txt', 'w') as file:\n",
    "    file.write(output_text)\n"
   ]
  },
  {
   "cell_type": "code",
   "execution_count": null,
   "id": "6966e22b",
   "metadata": {},
   "outputs": [],
   "source": []
  },
  {
   "cell_type": "code",
   "execution_count": null,
   "id": "b9164097",
   "metadata": {},
   "outputs": [],
   "source": []
  }
 ],
 "metadata": {
  "kernelspec": {
   "display_name": "Python 3.10 (tensorflow)",
   "language": "python",
   "name": "tensorflow"
  },
  "language_info": {
   "codemirror_mode": {
    "name": "ipython",
    "version": 3
   },
   "file_extension": ".py",
   "mimetype": "text/x-python",
   "name": "python",
   "nbconvert_exporter": "python",
   "pygments_lexer": "ipython3",
   "version": "3.9.16"
  }
 },
 "nbformat": 4,
 "nbformat_minor": 5
}
