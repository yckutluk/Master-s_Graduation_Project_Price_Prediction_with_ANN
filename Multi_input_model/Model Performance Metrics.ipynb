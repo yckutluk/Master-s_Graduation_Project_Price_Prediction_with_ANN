{
 "cells": [
  {
   "cell_type": "code",
   "execution_count": 5,
   "id": "a659b46f",
   "metadata": {},
   "outputs": [
    {
     "name": "stdout",
     "output_type": "stream",
     "text": [
      "      Model          MSE         RMSE          MAE        R2\n",
      "LSTM-multi1 5.056155e+02    22.485894     8.533626  0.180805\n",
      "LSTM-multi4 3.408735e+06  1846.276078   947.732289  0.981510\n",
      "LSTM-multi5 1.364059e+06  1167.929342   767.879820  0.992612\n",
      "         LR 8.873000e-03     0.094199     0.062295  0.988528\n",
      "        RBF 1.357700e-02     0.116520     0.082680  0.982448\n",
      "       CNN1 3.239558e+03    56.917115  2391.985249  0.942743\n",
      "       CNN2 1.918083e+04 19180.834079 17931.025970 -1.007198\n"
     ]
    }
   ],
   "source": [
    "import pandas as pd\n",
    "\n",
    "# Dosyaları oku ve DataFrame'leri oluştur\n",
    "\n",
    "df_lstm1 = pd.read_csv('LSTM_ERROR1.txt', delimiter='\\s+')\n",
    "df_lstm2 = pd.read_csv('LSTM_ERROR4.txt', delimiter='\\s+')\n",
    "df_lstm3 = pd.read_csv('LSTM_ERROR5.txt', delimiter='\\s+')\n",
    "df_cnn1 = pd.read_csv('CNN1_ERROR.txt', delimiter='\\s+')\n",
    "df_cnn2 = pd.read_csv('CNN2_ERROR.txt', delimiter='\\s+')\n",
    "\n",
    "# SVR2_ERROR.txt dosyasını oku\n",
    "df_svr2 = pd.read_csv('SVR_M_ERROR.txt', delimiter='\\s+')\n",
    "\n",
    "# LR ve SVR satırlarını DataFrame'e ekle\n",
    "df_lr = pd.DataFrame([['LR'] + df_svr2.iloc[0].tolist()], columns=['Model', 'MSE', 'RMSE', 'MAE', 'R2'])\n",
    "df_svr = pd.DataFrame([['RBF'] + df_svr2.iloc[1].tolist()], columns=['Model', 'MSE', 'RMSE', 'MAE', 'R2'])\n",
    "\n",
    "# Diğer DataFrame'leri birleştir\n",
    "df_combined = pd.concat([df_lstm1, df_lstm2, df_lstm3, df_lr, df_svr, df_cnn1, df_cnn2], axis=0, ignore_index=True)\n",
    "\n",
    "# Model adlarını güncelle\n",
    "df_combined.loc[df_combined['Model'].isnull(), 'Model'] = ['LSTM-multi1', 'LSTM-multi4', 'LSTM-multi5', 'CNN1','CNN2']\n",
    "\n",
    "# Sütun adlarını yeniden düzenle\n",
    "df_combined = df_combined[['Model', 'MSE', 'RMSE', 'MAE', 'R2']]\n",
    "\n",
    "# DataFrame'i tablo formatında görüntüle\n",
    "print(df_combined.to_string(index=False))\n"
   ]
  },
  {
   "cell_type": "code",
   "execution_count": 6,
   "id": "a1521bb5",
   "metadata": {},
   "outputs": [],
   "source": [
    "output_text = df_combined.to_string(index=False)\n",
    "\n",
    "with open('multi_model_results.txt', 'w') as file:\n",
    "    file.write(output_text)\n"
   ]
  },
  {
   "cell_type": "code",
   "execution_count": null,
   "id": "7f51de54",
   "metadata": {},
   "outputs": [],
   "source": []
  }
 ],
 "metadata": {
  "kernelspec": {
   "display_name": "Python 3.10 (tensorflow)",
   "language": "python",
   "name": "tensorflow"
  },
  "language_info": {
   "codemirror_mode": {
    "name": "ipython",
    "version": 3
   },
   "file_extension": ".py",
   "mimetype": "text/x-python",
   "name": "python",
   "nbconvert_exporter": "python",
   "pygments_lexer": "ipython3",
   "version": "3.9.16"
  }
 },
 "nbformat": 4,
 "nbformat_minor": 5
}
