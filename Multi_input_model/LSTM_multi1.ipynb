{
 "cells": [
  {
   "cell_type": "code",
   "execution_count": 26,
   "id": "22eaf38c",
   "metadata": {},
   "outputs": [],
   "source": [
    "import json\n",
    "import requests\n",
    "from keras.models import Sequential\n",
    "from keras.layers import Activation, Dense, Dropout, LSTM\n",
    "import matplotlib.pyplot as plt\n",
    "import numpy as np\n",
    "import pandas as pd\n",
    "import seaborn as sns\n",
    "from sklearn.metrics import mean_absolute_error\n",
    "%matplotlib inline"
   ]
  },
  {
   "cell_type": "code",
   "execution_count": 27,
   "id": "6cd4143a",
   "metadata": {},
   "outputs": [
    {
     "data": {
      "text/html": [
       "<div>\n",
       "<style scoped>\n",
       "    .dataframe tbody tr th:only-of-type {\n",
       "        vertical-align: middle;\n",
       "    }\n",
       "\n",
       "    .dataframe tbody tr th {\n",
       "        vertical-align: top;\n",
       "    }\n",
       "\n",
       "    .dataframe thead th {\n",
       "        text-align: right;\n",
       "    }\n",
       "</style>\n",
       "<table border=\"1\" class=\"dataframe\">\n",
       "  <thead>\n",
       "    <tr style=\"text-align: right;\">\n",
       "      <th></th>\n",
       "      <th>Date</th>\n",
       "      <th>Close</th>\n",
       "      <th>Currently</th>\n",
       "    </tr>\n",
       "  </thead>\n",
       "  <tbody>\n",
       "    <tr>\n",
       "      <th>0</th>\n",
       "      <td>2014-09-17</td>\n",
       "      <td>457.334015</td>\n",
       "      <td>0.09</td>\n",
       "    </tr>\n",
       "    <tr>\n",
       "      <th>1</th>\n",
       "      <td>2014-09-18</td>\n",
       "      <td>424.440002</td>\n",
       "      <td>0.09</td>\n",
       "    </tr>\n",
       "    <tr>\n",
       "      <th>2</th>\n",
       "      <td>2014-09-19</td>\n",
       "      <td>394.795990</td>\n",
       "      <td>0.09</td>\n",
       "    </tr>\n",
       "    <tr>\n",
       "      <th>3</th>\n",
       "      <td>2014-09-20</td>\n",
       "      <td>408.903992</td>\n",
       "      <td>0.09</td>\n",
       "    </tr>\n",
       "    <tr>\n",
       "      <th>4</th>\n",
       "      <td>2014-09-21</td>\n",
       "      <td>398.821014</td>\n",
       "      <td>0.09</td>\n",
       "    </tr>\n",
       "    <tr>\n",
       "      <th>...</th>\n",
       "      <td>...</td>\n",
       "      <td>...</td>\n",
       "      <td>...</td>\n",
       "    </tr>\n",
       "    <tr>\n",
       "      <th>3158</th>\n",
       "      <td>2023-05-11</td>\n",
       "      <td>27000.789063</td>\n",
       "      <td>5.08</td>\n",
       "    </tr>\n",
       "    <tr>\n",
       "      <th>3159</th>\n",
       "      <td>2023-05-12</td>\n",
       "      <td>26804.990234</td>\n",
       "      <td>5.08</td>\n",
       "    </tr>\n",
       "    <tr>\n",
       "      <th>3160</th>\n",
       "      <td>2023-05-13</td>\n",
       "      <td>26784.078125</td>\n",
       "      <td>5.08</td>\n",
       "    </tr>\n",
       "    <tr>\n",
       "      <th>3161</th>\n",
       "      <td>2023-05-14</td>\n",
       "      <td>26930.638672</td>\n",
       "      <td>5.08</td>\n",
       "    </tr>\n",
       "    <tr>\n",
       "      <th>3162</th>\n",
       "      <td>2023-05-15</td>\n",
       "      <td>27406.390625</td>\n",
       "      <td>5.08</td>\n",
       "    </tr>\n",
       "  </tbody>\n",
       "</table>\n",
       "<p>3163 rows × 3 columns</p>\n",
       "</div>"
      ],
      "text/plain": [
       "            Date         Close  Currently\n",
       "0     2014-09-17    457.334015       0.09\n",
       "1     2014-09-18    424.440002       0.09\n",
       "2     2014-09-19    394.795990       0.09\n",
       "3     2014-09-20    408.903992       0.09\n",
       "4     2014-09-21    398.821014       0.09\n",
       "...          ...           ...        ...\n",
       "3158  2023-05-11  27000.789063       5.08\n",
       "3159  2023-05-12  26804.990234       5.08\n",
       "3160  2023-05-13  26784.078125       5.08\n",
       "3161  2023-05-14  26930.638672       5.08\n",
       "3162  2023-05-15  27406.390625       5.08\n",
       "\n",
       "[3163 rows x 3 columns]"
      ]
     },
     "execution_count": 27,
     "metadata": {},
     "output_type": "execute_result"
    }
   ],
   "source": [
    "\n",
    "import numpy as np\n",
    "import pandas as pd\n",
    "df=pd.read_csv('merged2_data.csv')\n",
    "df"
   ]
  },
  {
   "cell_type": "code",
   "execution_count": 28,
   "id": "0eed74db",
   "metadata": {},
   "outputs": [],
   "source": [
    "hist=df"
   ]
  },
  {
   "cell_type": "code",
   "execution_count": 29,
   "id": "fe2f62ea",
   "metadata": {},
   "outputs": [
    {
     "data": {
      "text/html": [
       "<div>\n",
       "<style scoped>\n",
       "    .dataframe tbody tr th:only-of-type {\n",
       "        vertical-align: middle;\n",
       "    }\n",
       "\n",
       "    .dataframe tbody tr th {\n",
       "        vertical-align: top;\n",
       "    }\n",
       "\n",
       "    .dataframe thead th {\n",
       "        text-align: right;\n",
       "    }\n",
       "</style>\n",
       "<table border=\"1\" class=\"dataframe\">\n",
       "  <thead>\n",
       "    <tr style=\"text-align: right;\">\n",
       "      <th></th>\n",
       "      <th>Date</th>\n",
       "      <th>Close</th>\n",
       "      <th>Currently</th>\n",
       "    </tr>\n",
       "  </thead>\n",
       "  <tbody>\n",
       "    <tr>\n",
       "      <th>0</th>\n",
       "      <td>2014-09-17</td>\n",
       "      <td>457.334015</td>\n",
       "      <td>0.09</td>\n",
       "    </tr>\n",
       "    <tr>\n",
       "      <th>1</th>\n",
       "      <td>2014-09-18</td>\n",
       "      <td>424.440002</td>\n",
       "      <td>0.09</td>\n",
       "    </tr>\n",
       "    <tr>\n",
       "      <th>2</th>\n",
       "      <td>2014-09-19</td>\n",
       "      <td>394.795990</td>\n",
       "      <td>0.09</td>\n",
       "    </tr>\n",
       "    <tr>\n",
       "      <th>3</th>\n",
       "      <td>2014-09-20</td>\n",
       "      <td>408.903992</td>\n",
       "      <td>0.09</td>\n",
       "    </tr>\n",
       "    <tr>\n",
       "      <th>4</th>\n",
       "      <td>2014-09-21</td>\n",
       "      <td>398.821014</td>\n",
       "      <td>0.09</td>\n",
       "    </tr>\n",
       "    <tr>\n",
       "      <th>...</th>\n",
       "      <td>...</td>\n",
       "      <td>...</td>\n",
       "      <td>...</td>\n",
       "    </tr>\n",
       "    <tr>\n",
       "      <th>3158</th>\n",
       "      <td>2023-05-11</td>\n",
       "      <td>27000.789063</td>\n",
       "      <td>5.08</td>\n",
       "    </tr>\n",
       "    <tr>\n",
       "      <th>3159</th>\n",
       "      <td>2023-05-12</td>\n",
       "      <td>26804.990234</td>\n",
       "      <td>5.08</td>\n",
       "    </tr>\n",
       "    <tr>\n",
       "      <th>3160</th>\n",
       "      <td>2023-05-13</td>\n",
       "      <td>26784.078125</td>\n",
       "      <td>5.08</td>\n",
       "    </tr>\n",
       "    <tr>\n",
       "      <th>3161</th>\n",
       "      <td>2023-05-14</td>\n",
       "      <td>26930.638672</td>\n",
       "      <td>5.08</td>\n",
       "    </tr>\n",
       "    <tr>\n",
       "      <th>3162</th>\n",
       "      <td>2023-05-15</td>\n",
       "      <td>27406.390625</td>\n",
       "      <td>5.08</td>\n",
       "    </tr>\n",
       "  </tbody>\n",
       "</table>\n",
       "<p>3163 rows × 3 columns</p>\n",
       "</div>"
      ],
      "text/plain": [
       "            Date         Close  Currently\n",
       "0     2014-09-17    457.334015       0.09\n",
       "1     2014-09-18    424.440002       0.09\n",
       "2     2014-09-19    394.795990       0.09\n",
       "3     2014-09-20    408.903992       0.09\n",
       "4     2014-09-21    398.821014       0.09\n",
       "...          ...           ...        ...\n",
       "3158  2023-05-11  27000.789063       5.08\n",
       "3159  2023-05-12  26804.990234       5.08\n",
       "3160  2023-05-13  26784.078125       5.08\n",
       "3161  2023-05-14  26930.638672       5.08\n",
       "3162  2023-05-15  27406.390625       5.08\n",
       "\n",
       "[3163 rows x 3 columns]"
      ]
     },
     "execution_count": 29,
     "metadata": {},
     "output_type": "execute_result"
    }
   ],
   "source": [
    "hist"
   ]
  },
  {
   "cell_type": "code",
   "execution_count": 30,
   "id": "693b766a",
   "metadata": {},
   "outputs": [],
   "source": [
    "hist = hist.set_index('Date')\n"
   ]
  },
  {
   "cell_type": "code",
   "execution_count": 31,
   "id": "9cc2f2d7",
   "metadata": {},
   "outputs": [
    {
     "data": {
      "text/plain": [
       "['Close', 'Currently']"
      ]
     },
     "execution_count": 31,
     "metadata": {},
     "output_type": "execute_result"
    }
   ],
   "source": [
    "target_col = ['Close', 'Currently']  # Kapanış fiyatı ve faiz oranı  sütunları\n",
    "target_col "
   ]
  },
  {
   "cell_type": "code",
   "execution_count": 32,
   "id": "208ab057",
   "metadata": {},
   "outputs": [],
   "source": [
    "def train_test_split(df, test_size=0.2):\n",
    "    split_row = len(df) - int(test_size * len(df))\n",
    "    train_data = df.iloc[:split_row]\n",
    "    test_data = df.iloc[split_row:]\n",
    "    return train_data, test_data"
   ]
  },
  {
   "cell_type": "code",
   "execution_count": 33,
   "id": "15892d53",
   "metadata": {},
   "outputs": [],
   "source": [
    "from sklearn.model_selection import train_test_split\n",
    "train, test = train_test_split(hist, test_size=0.2)"
   ]
  },
  {
   "cell_type": "code",
   "execution_count": 34,
   "id": "dc9c23cf",
   "metadata": {},
   "outputs": [],
   "source": [
    "def line_plot(line1, line2, label1=None, label2=None, title='', lw=2):\n",
    "    fig, ax = plt.subplots(1, figsize=(20,10))\n",
    "    ax.plot(line1, label=label1, linewidth=lw)\n",
    "    ax.plot(line2, label=label2, linewidth=lw)\n",
    "    ax.set_ylabel('price [USD]', fontsize=14)\n",
    "    ax.set_title(title, fontsize=16)\n",
    "    ax.legend(loc='best', fontsize=16);"
   ]
  },
  {
   "cell_type": "code",
   "execution_count": 35,
   "id": "487acb30",
   "metadata": {},
   "outputs": [],
   "source": [
    "def normalise_zero_base(df):\n",
    "    return df / df.iloc[0] - 1\n",
    "\n",
    "def normalise_min_max(df):\n",
    "    return (df - df.min()) / (data.max() - df.min())"
   ]
  },
  {
   "cell_type": "code",
   "execution_count": 36,
   "id": "c8246f22",
   "metadata": {},
   "outputs": [],
   "source": [
    "def extract_window_data(df, window_len=5, zero_base=True):\n",
    "    window_data = []\n",
    "    for idx in range(len(df) - window_len):\n",
    "        tmp = df[idx: (idx + window_len)].copy()\n",
    "        if zero_base:\n",
    "            tmp = normalise_zero_base(tmp)\n",
    "        window_data.append(tmp.values)\n",
    "    return np.array(window_data)"
   ]
  },
  {
   "cell_type": "code",
   "execution_count": 37,
   "id": "5bf1b75f",
   "metadata": {},
   "outputs": [],
   "source": [
    "def prepare_data(df, target_col, window_len=10, zero_base=True, test_size=0.2):\n",
    "    train_data, test_data = train_test_split(df, test_size=test_size)\n",
    "    X_train = extract_window_data(train_data, window_len, zero_base)\n",
    "    X_test = extract_window_data(test_data, window_len, zero_base)\n",
    "    y_train = train_data[target_col][window_len:].values\n",
    "    y_test = test_data[target_col][window_len:].values\n",
    "    if zero_base:\n",
    "        y_train = y_train / train_data[target_col][:-window_len].values - 1\n",
    "        y_test = y_test / test_data[target_col][:-window_len].values - 1\n",
    "\n",
    "    return train_data, test_data, X_train, X_test, y_train, y_test"
   ]
  },
  {
   "cell_type": "code",
   "execution_count": 38,
   "id": "a1b59293",
   "metadata": {},
   "outputs": [],
   "source": [
    "def build_lstm_model(input_data, output_size, neurons=20, activ_func='linear',\n",
    "                     dropout=0.25, loss='mae', optimizer='adam'):\n",
    "    model = Sequential()\n",
    "\n",
    "    model.add(LSTM(neurons, input_shape=(input_data.shape[1], input_data.shape[2])))\n",
    "    model.add(Dropout(dropout))\n",
    "    model.add(Dense(units=output_size))\n",
    "    model.add(Activation(activ_func))\n",
    "\n",
    "    model.compile(loss=loss, optimizer=optimizer)\n",
    "    return model\n"
   ]
  },
  {
   "cell_type": "code",
   "execution_count": 39,
   "id": "15c9191e",
   "metadata": {},
   "outputs": [],
   "source": [
    "np.random.seed(42)\n",
    "\n",
    "# data params\n",
    "window_len = 7\n",
    "test_size = 0.1\n",
    "zero_base = True\n",
    "\n",
    "# model params\n",
    "lstm_neurons = 60\n",
    "epochs = 50\n",
    "batch_size = 32\n",
    "loss = 'mae'\n",
    "dropout = 0.25\n",
    "optimizer = 'adam'"
   ]
  },
  {
   "cell_type": "code",
   "execution_count": 40,
   "id": "1269c8fa",
   "metadata": {},
   "outputs": [],
   "source": [
    "train, test, X_train, X_test, y_train, y_test = prepare_data(\n",
    "    hist, target_col, window_len=window_len, zero_base=zero_base, test_size=test_size)"
   ]
  },
  {
   "cell_type": "code",
   "execution_count": 41,
   "id": "319c2dee",
   "metadata": {},
   "outputs": [
    {
     "name": "stdout",
     "output_type": "stream",
     "text": [
      "Epoch 1/50\n",
      "89/89 [==============================] - 1s 5ms/step - loss: 7.6921 - val_loss: 8.7776\n",
      "Epoch 2/50\n",
      "89/89 [==============================] - 0s 3ms/step - loss: 7.3729 - val_loss: 8.6092\n",
      "Epoch 3/50\n",
      "89/89 [==============================] - 0s 3ms/step - loss: 7.2260 - val_loss: 8.5294\n",
      "Epoch 4/50\n",
      "89/89 [==============================] - 0s 3ms/step - loss: 7.1730 - val_loss: 8.5046\n",
      "Epoch 5/50\n",
      "89/89 [==============================] - 0s 3ms/step - loss: 7.1721 - val_loss: 8.4729\n",
      "Epoch 6/50\n",
      "89/89 [==============================] - 0s 3ms/step - loss: 7.1421 - val_loss: 8.4754\n",
      "Epoch 7/50\n",
      "89/89 [==============================] - 0s 3ms/step - loss: 7.1078 - val_loss: 8.4677\n",
      "Epoch 8/50\n",
      "89/89 [==============================] - 0s 3ms/step - loss: 7.0760 - val_loss: 8.4629\n",
      "Epoch 9/50\n",
      "89/89 [==============================] - 0s 3ms/step - loss: 7.0992 - val_loss: 8.4628\n",
      "Epoch 10/50\n",
      "89/89 [==============================] - 0s 3ms/step - loss: 7.0879 - val_loss: 8.4890\n",
      "Epoch 11/50\n",
      "89/89 [==============================] - 0s 3ms/step - loss: 7.0804 - val_loss: 8.4709\n",
      "Epoch 12/50\n",
      "89/89 [==============================] - 0s 3ms/step - loss: 7.0669 - val_loss: 8.4793\n",
      "Epoch 13/50\n",
      "89/89 [==============================] - 0s 3ms/step - loss: 7.0581 - val_loss: 8.4860\n",
      "Epoch 14/50\n",
      "89/89 [==============================] - 0s 3ms/step - loss: 7.0425 - val_loss: 8.4881\n",
      "Epoch 15/50\n",
      "89/89 [==============================] - 0s 3ms/step - loss: 7.0585 - val_loss: 8.4758\n",
      "Epoch 16/50\n",
      "89/89 [==============================] - 0s 3ms/step - loss: 7.0421 - val_loss: 8.5039\n",
      "Epoch 17/50\n",
      "89/89 [==============================] - 0s 3ms/step - loss: 7.0665 - val_loss: 8.5105\n",
      "Epoch 18/50\n",
      "89/89 [==============================] - 0s 3ms/step - loss: 7.0486 - val_loss: 8.5118\n",
      "Epoch 19/50\n",
      "89/89 [==============================] - 0s 3ms/step - loss: 7.0592 - val_loss: 8.4975\n",
      "Epoch 20/50\n",
      "89/89 [==============================] - 0s 3ms/step - loss: 7.0412 - val_loss: 8.5019\n",
      "Epoch 21/50\n",
      "89/89 [==============================] - 0s 3ms/step - loss: 7.0330 - val_loss: 8.5107\n",
      "Epoch 22/50\n",
      "89/89 [==============================] - 0s 3ms/step - loss: 7.0141 - val_loss: 8.4863\n",
      "Epoch 23/50\n",
      "89/89 [==============================] - 0s 3ms/step - loss: 7.0286 - val_loss: 8.5181\n",
      "Epoch 24/50\n",
      "89/89 [==============================] - 0s 3ms/step - loss: 7.0083 - val_loss: 8.5151\n",
      "Epoch 25/50\n",
      "89/89 [==============================] - 0s 3ms/step - loss: 7.0200 - val_loss: 8.5366\n",
      "Epoch 26/50\n",
      "89/89 [==============================] - 0s 3ms/step - loss: 7.0152 - val_loss: 8.5030\n",
      "Epoch 27/50\n",
      "89/89 [==============================] - 0s 3ms/step - loss: 6.9987 - val_loss: 8.5154\n",
      "Epoch 28/50\n",
      "89/89 [==============================] - 0s 3ms/step - loss: 7.0000 - val_loss: 8.5237\n",
      "Epoch 29/50\n",
      "89/89 [==============================] - 0s 3ms/step - loss: 6.9860 - val_loss: 8.5079\n",
      "Epoch 30/50\n",
      "89/89 [==============================] - 0s 3ms/step - loss: 7.0073 - val_loss: 8.5409\n",
      "Epoch 31/50\n",
      "89/89 [==============================] - 0s 3ms/step - loss: 6.9810 - val_loss: 8.5101\n",
      "Epoch 32/50\n",
      "89/89 [==============================] - 0s 3ms/step - loss: 6.9949 - val_loss: 8.5247\n",
      "Epoch 33/50\n",
      "89/89 [==============================] - 0s 3ms/step - loss: 6.9918 - val_loss: 8.5192\n",
      "Epoch 34/50\n",
      "89/89 [==============================] - 0s 3ms/step - loss: 6.9801 - val_loss: 8.5661\n",
      "Epoch 35/50\n",
      "89/89 [==============================] - 0s 3ms/step - loss: 6.9916 - val_loss: 8.5469\n",
      "Epoch 36/50\n",
      "89/89 [==============================] - 0s 3ms/step - loss: 6.9835 - val_loss: 8.5438\n",
      "Epoch 37/50\n",
      "89/89 [==============================] - 0s 3ms/step - loss: 6.9765 - val_loss: 8.5787\n",
      "Epoch 38/50\n",
      "89/89 [==============================] - 0s 3ms/step - loss: 6.9529 - val_loss: 8.5686\n",
      "Epoch 39/50\n",
      "89/89 [==============================] - 0s 3ms/step - loss: 6.9684 - val_loss: 8.5531\n",
      "Epoch 40/50\n",
      "89/89 [==============================] - 0s 3ms/step - loss: 6.9729 - val_loss: 8.5521\n",
      "Epoch 41/50\n",
      "89/89 [==============================] - 0s 3ms/step - loss: 6.9499 - val_loss: 8.5404\n",
      "Epoch 42/50\n",
      "89/89 [==============================] - 0s 3ms/step - loss: 6.9490 - val_loss: 8.5705\n",
      "Epoch 43/50\n",
      "89/89 [==============================] - 0s 3ms/step - loss: 6.9684 - val_loss: 8.5559\n",
      "Epoch 44/50\n",
      "89/89 [==============================] - 0s 3ms/step - loss: 6.9308 - val_loss: 8.5558\n",
      "Epoch 45/50\n",
      "89/89 [==============================] - 0s 3ms/step - loss: 6.9285 - val_loss: 8.5624\n",
      "Epoch 46/50\n",
      "89/89 [==============================] - 0s 3ms/step - loss: 6.9296 - val_loss: 8.5324\n",
      "Epoch 47/50\n",
      "89/89 [==============================] - 0s 3ms/step - loss: 6.9480 - val_loss: 8.5542\n",
      "Epoch 48/50\n",
      "89/89 [==============================] - 0s 3ms/step - loss: 6.9187 - val_loss: 8.5438\n",
      "Epoch 49/50\n",
      "89/89 [==============================] - 0s 3ms/step - loss: 6.9117 - val_loss: 8.5396\n",
      "Epoch 50/50\n",
      "89/89 [==============================] - 0s 3ms/step - loss: 6.9075 - val_loss: 8.5336\n"
     ]
    }
   ],
   "source": [
    "model = build_lstm_model(\n",
    "    X_train, output_size=2, neurons=lstm_neurons, dropout=dropout, loss=loss,\n",
    "    optimizer=optimizer)\n",
    "history = model.fit(\n",
    "    X_train, y_train, validation_data=(X_test, y_test), epochs=epochs, batch_size=batch_size, verbose=1, shuffle=True)"
   ]
  },
  {
   "cell_type": "code",
   "execution_count": 42,
   "id": "bedfd10f",
   "metadata": {},
   "outputs": [
    {
     "name": "stdout",
     "output_type": "stream",
     "text": [
      "Model: \"sequential_1\"\n",
      "_________________________________________________________________\n",
      " Layer (type)                Output Shape              Param #   \n",
      "=================================================================\n",
      " lstm_1 (LSTM)               (None, 60)                15120     \n",
      "                                                                 \n",
      " dropout_1 (Dropout)         (None, 60)                0         \n",
      "                                                                 \n",
      " dense_1 (Dense)             (None, 2)                 122       \n",
      "                                                                 \n",
      " activation_1 (Activation)   (None, 2)                 0         \n",
      "                                                                 \n",
      "=================================================================\n",
      "Total params: 15,242\n",
      "Trainable params: 15,242\n",
      "Non-trainable params: 0\n",
      "_________________________________________________________________\n",
      "None\n"
     ]
    }
   ],
   "source": [
    "print(model.summary()) "
   ]
  },
  {
   "cell_type": "code",
   "execution_count": 43,
   "id": "20db2f44",
   "metadata": {},
   "outputs": [
    {
     "data": {
      "image/png": "[encoded data removed]",
      "text/plain": [
       "<Figure size 640x480 with 1 Axes>"
      ]
     },
     "metadata": {},
     "output_type": "display_data"
    }
   ],
   "source": [
    "import matplotlib.pyplot as plt\n",
    "plt.plot(history.history['loss'],'r',linewidth=2, label='Train loss')\n",
    "plt.plot(history.history['val_loss'], 'g',linewidth=2, label='Validation loss')\n",
    "plt.title('LSTM')\n",
    "plt.xlabel('Epochs')\n",
    "plt.ylabel('MSE')\n",
    "plt.show()"
   ]
  },
  {
   "cell_type": "code",
   "execution_count": 44,
   "id": "d202c8a8",
   "metadata": {},
   "outputs": [
    {
     "name": "stdout",
     "output_type": "stream",
     "text": [
      "10/10 [==============================] - 0s 984us/step\n"
     ]
    }
   ],
   "source": [
    "targets = test[target_col][window_len:]\n",
    "preds = model.predict(X_test).squeeze()"
   ]
  },
  {
   "cell_type": "code",
   "execution_count": 45,
   "id": "be1775e7",
   "metadata": {},
   "outputs": [
    {
     "data": {
      "text/plain": [
       "505.6154496289878"
      ]
     },
     "execution_count": 45,
     "metadata": {},
     "output_type": "execute_result"
    }
   ],
   "source": [
    "import numpy as np\n",
    "\n",
    "# Hata karelerinin hesaplanması\n",
    "errors = (preds - y_test) ** 2\n",
    "\n",
    "# Hata karelerinin ortalamasının hesaplanması\n",
    "MSE = np.mean(errors)\n",
    "MSE\n"
   ]
  },
  {
   "cell_type": "code",
   "execution_count": 46,
   "id": "74450631",
   "metadata": {},
   "outputs": [
    {
     "data": {
      "text/plain": [
       "22.485894459171238"
      ]
     },
     "execution_count": 46,
     "metadata": {},
     "output_type": "execute_result"
    }
   ],
   "source": [
    "RMSE = np.sqrt(MSE)\n",
    "RMSE"
   ]
  },
  {
   "cell_type": "code",
   "execution_count": 47,
   "id": "39a115fc",
   "metadata": {},
   "outputs": [
    {
     "data": {
      "text/plain": [
       "8.533626428308821"
      ]
     },
     "execution_count": 47,
     "metadata": {},
     "output_type": "execute_result"
    }
   ],
   "source": [
    "import numpy as np\n",
    "from sklearn.metrics import mean_absolute_error\n",
    "\n",
    "# Hataların hesaplanması\n",
    "errors = np.abs(preds - y_test)\n",
    "\n",
    "# Hataların ortalamasının hesaplanması\n",
    "MAE = np.mean(errors)\n",
    "MAE"
   ]
  },
  {
   "cell_type": "code",
   "execution_count": 48,
   "id": "1d5665a7",
   "metadata": {},
   "outputs": [
    {
     "data": {
      "text/plain": [
       "0.18080451030436395"
      ]
     },
     "execution_count": 48,
     "metadata": {},
     "output_type": "execute_result"
    }
   ],
   "source": [
    "import numpy as np\n",
    "\n",
    "# Ortalama değerlerin hesaplanması\n",
    "y_mean = np.mean(y_test)\n",
    "\n",
    "# Toplam hata karelerinin hesaplanması\n",
    "ss_total = np.sum((y_test - y_mean)**2)\n",
    "\n",
    "# İç hata karelerinin hesaplanması\n",
    "ss_residual = np.sum((y_test - preds)**2)\n",
    "\n",
    "# R2 değerinin hesaplanması\n",
    "R2 = 1 - (ss_residual / ss_total)\n",
    "R2"
   ]
  },
  {
   "cell_type": "code",
   "execution_count": 53,
   "id": "fa50098f",
   "metadata": {},
   "outputs": [
    {
     "name": "stdout",
     "output_type": "stream",
     "text": [
      "       MSE      RMSE      MAE       R2\n",
      "510.749059 22.599758 8.578092 0.172487\n"
     ]
    }
   ],
   "source": [
    "import pandas as pd\n",
    "\n",
    "# Değerleri bir sözlük yapısında sakla\n",
    "results = {'MSE': [MSE], 'RMSE': [RMSE], 'MAE': [MAE], 'R2': [R2]}\n",
    "\n",
    "# DataFrame oluştur ve index değerlerini varsayılan değerlerle ata\n",
    "LSTM_ERROR1= pd.DataFrame.from_dict(results, orient='index').T\n",
    "\n",
    "# DataFrame'i ERROR ismiyle kaydet\n",
    "LSTM_ERROR1 = LSTM_ERROR1.to_string(index=False)\n",
    "\n",
    "# ERROR'u yazdır\n",
    "\n",
    "print(LSTM_ERROR)"
   ]
  },
  {
   "cell_type": "code",
   "execution_count": 54,
   "id": "e265fb30",
   "metadata": {},
   "outputs": [],
   "source": [
    "import pandas as pd\n",
    "\n",
    "# Değerleri bir sözlük yapısında sakla\n",
    "results = {'MSE': [MSE], 'RMSE': [RMSE], 'MAE': [MAE], 'R2': [R2]}\n",
    "\n",
    "# DataFrame oluştur ve index değerlerini varsayılan değerlerle ata\n",
    "LSTM_ERROR1 = pd.DataFrame.from_dict(results, orient='index').T\n",
    "\n",
    "# Çıktıyı metin dosyasına aktar\n",
    "output_text = LSTM_ERROR1.to_string(index=False)\n",
    "\n",
    "# Metin dosyasını kaydet\n",
    "with open('LSTM_ERROR1.txt', 'w') as file:\n",
    "    file.write(output_text)\n"
   ]
  },
  {
   "cell_type": "code",
   "execution_count": null,
   "id": "fd03ef17",
   "metadata": {},
   "outputs": [],
   "source": []
  }
 ],
 "metadata": {
  "kernelspec": {
   "display_name": "Python 3.10 (tensorflow)",
   "language": "python",
   "name": "tensorflow"
  },
  "language_info": {
   "codemirror_mode": {
    "name": "ipython",
    "version": 3
   },
   "file_extension": ".py",
   "mimetype": "text/x-python",
   "name": "python",
   "nbconvert_exporter": "python",
   "pygments_lexer": "ipython3",
   "version": "3.9.16"
  }
 },
 "nbformat": 4,
 "nbformat_minor": 5
}
