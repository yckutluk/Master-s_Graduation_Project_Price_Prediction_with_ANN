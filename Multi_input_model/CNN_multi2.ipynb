{
 "cells": [
  {
   "cell_type": "markdown",
   "id": "42aa0e18",
   "metadata": {},
   "source": [
    "<h1 style=\"font-size:36px;\">Convolutional Neural Network(CNN)</h1>"
   ]
  },
  {
   "cell_type": "markdown",
   "id": "25e40c8e",
   "metadata": {},
   "source": [
    "CNN architecture includes several convolutional layers followed by several fully connected layers. A matrix of Bitcoin price data over the time range is used as input. Convolutional layers create feature maps by acting on the input matrix of the filters. Fully connected layers flatten the feature maps and render them into the output layer. When this architecture is used for Bitcoin price prediction, it allows to learn visual features of historical price data and use these features to predict future prices.\n",
    "\n",
    "CNN mimarisi, birkaç evrişimli katman ve ardından birkaç tam bağlantılı katman içerir. Girdi olarak, zaman aralığındaki Bitcoin fiyat verilerinin bir matrisi kullanılır. Evrişimli katmanlar, filtrelerin girdi matrisi üzerinde hareket ederek özellik haritalarını oluşturur. Tam bağlantılı katmanlar, özellik haritalarını düzleştirir ve çıktı katmanına doğru işler. Bu mimari, Bitcoin fiyat tahmini için kullanıldığında, geçmiş fiyat verilerinin görsel özelliklerini öğrenmeyi ve bu özelliklerin gelecekteki fiyatları tahmin etmek için kullanılmasını sağlar."
   ]
  },
  {
   "cell_type": "markdown",
   "id": "9e9b19d6",
   "metadata": {},
   "source": [
    "Model 1 uses a Conv1D layer with 58 input properties and then halves the size using a MaxPooling1D layer. It then creates an intermediate output using a Dense layer, and finally uses a Dense layer containing a single output neuron, the output layer. Model 1 has 104,761 trainable parameters.\n",
    "\n",
    "Model 1, 58 adet girdi özelliğine sahip bir Conv1D katmanı kullanır ve ardından bir MaxPooling1D katmanı kullanarak boyutu yarıya indirir. Daha sonra, bir Yoğun katmanı kullanarak bir ara çıktı oluşturur ve son olarak, çıkış katmanı olan tek bir çıktı nöronu içeren bir Yoğun katman kullanır. Model 1, 104,761 eğitilebilir parametreye sahiptir."
   ]
  },
  {
   "cell_type": "markdown",
   "id": "529fe4c2",
   "metadata": {},
   "source": [
    "\n",
    "\n",
    "\n",
    "\n",
    "\n",
    "\n",
    "\n",
    "\n"
   ]
  },
  {
   "cell_type": "markdown",
   "id": "69a0b260",
   "metadata": {},
   "source": [
    "\n",
    "\n"
   ]
  },
  {
   "cell_type": "markdown",
   "id": "ab392b9a",
   "metadata": {},
   "source": [
    "\n",
    "\n"
   ]
  },
  {
   "cell_type": "markdown",
   "id": "f44bf5c1",
   "metadata": {},
   "source": [
    "\n",
    "<h3 style=\"font-size:24px;\">Data preprocessing and Preparation</h3>"
   ]
  },
  {
   "cell_type": "code",
   "execution_count": 1,
   "id": "abff19f2",
   "metadata": {},
   "outputs": [],
   "source": [
    "\n",
    "\n",
    "import pandas as pd\n",
    "import numpy as np\n",
    "import matplotlib.pyplot as plt\n",
    "from sklearn.preprocessing import StandardScaler\n",
    "from keras.models import Sequential\n",
    "from keras.layers import Dense\n",
    "from keras.layers import Flatten\n",
    "from keras.layers.convolutional import Conv1D\n",
    "from keras.layers.convolutional import MaxPooling1D\n",
    "from sklearn.metrics import mean_squared_error\n",
    "from keras.callbacks import History\n",
    "import math\n",
    "import yfinance as yf"
   ]
  },
  {
   "cell_type": "code",
   "execution_count": 2,
   "id": "9904fd0c",
   "metadata": {},
   "outputs": [
    {
     "data": {
      "text/plain": [
       "array([[4.57334015e+02, 9.00000000e-02],\n",
       "       [4.24440002e+02, 9.00000000e-02],\n",
       "       [3.94795990e+02, 9.00000000e-02],\n",
       "       ...,\n",
       "       [2.67840781e+04, 5.08000000e+00],\n",
       "       [2.69306387e+04, 5.08000000e+00],\n",
       "       [2.74063906e+04, 5.08000000e+00]])"
      ]
     },
     "execution_count": 2,
     "metadata": {},
     "output_type": "execute_result"
    }
   ],
   "source": [
    "# Veri setini yükleyin\n",
    "btc = pd.read_csv(\"merged2_data.csv\")\n",
    "\n",
    "# \"Close\" değişkenini alın\n",
    "close_btc= btc[['Close', 'Currently']].values\n",
    "\n",
    "\n",
    "close_btc     "
   ]
  },
  {
   "cell_type": "code",
   "execution_count": 3,
   "id": "ea9dd61d",
   "metadata": {},
   "outputs": [],
   "source": [
    "btc.reset_index(inplace=True)"
   ]
  },
  {
   "cell_type": "code",
   "execution_count": 4,
   "id": "c1cddf3c",
   "metadata": {},
   "outputs": [
    {
     "data": {
      "text/html": [
       "<div>\n",
       "<style scoped>\n",
       "    .dataframe tbody tr th:only-of-type {\n",
       "        vertical-align: middle;\n",
       "    }\n",
       "\n",
       "    .dataframe tbody tr th {\n",
       "        vertical-align: top;\n",
       "    }\n",
       "\n",
       "    .dataframe thead th {\n",
       "        text-align: right;\n",
       "    }\n",
       "</style>\n",
       "<table border=\"1\" class=\"dataframe\">\n",
       "  <thead>\n",
       "    <tr style=\"text-align: right;\">\n",
       "      <th></th>\n",
       "      <th>index</th>\n",
       "      <th>Date</th>\n",
       "      <th>Close</th>\n",
       "      <th>Currently</th>\n",
       "    </tr>\n",
       "  </thead>\n",
       "  <tbody>\n",
       "    <tr>\n",
       "      <th>0</th>\n",
       "      <td>0</td>\n",
       "      <td>2014-09-17</td>\n",
       "      <td>457.334015</td>\n",
       "      <td>0.09</td>\n",
       "    </tr>\n",
       "    <tr>\n",
       "      <th>1</th>\n",
       "      <td>1</td>\n",
       "      <td>2014-09-18</td>\n",
       "      <td>424.440002</td>\n",
       "      <td>0.09</td>\n",
       "    </tr>\n",
       "    <tr>\n",
       "      <th>2</th>\n",
       "      <td>2</td>\n",
       "      <td>2014-09-19</td>\n",
       "      <td>394.795990</td>\n",
       "      <td>0.09</td>\n",
       "    </tr>\n",
       "    <tr>\n",
       "      <th>3</th>\n",
       "      <td>3</td>\n",
       "      <td>2014-09-20</td>\n",
       "      <td>408.903992</td>\n",
       "      <td>0.09</td>\n",
       "    </tr>\n",
       "    <tr>\n",
       "      <th>4</th>\n",
       "      <td>4</td>\n",
       "      <td>2014-09-21</td>\n",
       "      <td>398.821014</td>\n",
       "      <td>0.09</td>\n",
       "    </tr>\n",
       "    <tr>\n",
       "      <th>...</th>\n",
       "      <td>...</td>\n",
       "      <td>...</td>\n",
       "      <td>...</td>\n",
       "      <td>...</td>\n",
       "    </tr>\n",
       "    <tr>\n",
       "      <th>3158</th>\n",
       "      <td>3158</td>\n",
       "      <td>2023-05-11</td>\n",
       "      <td>27000.789063</td>\n",
       "      <td>5.08</td>\n",
       "    </tr>\n",
       "    <tr>\n",
       "      <th>3159</th>\n",
       "      <td>3159</td>\n",
       "      <td>2023-05-12</td>\n",
       "      <td>26804.990234</td>\n",
       "      <td>5.08</td>\n",
       "    </tr>\n",
       "    <tr>\n",
       "      <th>3160</th>\n",
       "      <td>3160</td>\n",
       "      <td>2023-05-13</td>\n",
       "      <td>26784.078125</td>\n",
       "      <td>5.08</td>\n",
       "    </tr>\n",
       "    <tr>\n",
       "      <th>3161</th>\n",
       "      <td>3161</td>\n",
       "      <td>2023-05-14</td>\n",
       "      <td>26930.638672</td>\n",
       "      <td>5.08</td>\n",
       "    </tr>\n",
       "    <tr>\n",
       "      <th>3162</th>\n",
       "      <td>3162</td>\n",
       "      <td>2023-05-15</td>\n",
       "      <td>27406.390625</td>\n",
       "      <td>5.08</td>\n",
       "    </tr>\n",
       "  </tbody>\n",
       "</table>\n",
       "<p>3163 rows × 4 columns</p>\n",
       "</div>"
      ],
      "text/plain": [
       "      index        Date         Close  Currently\n",
       "0         0  2014-09-17    457.334015       0.09\n",
       "1         1  2014-09-18    424.440002       0.09\n",
       "2         2  2014-09-19    394.795990       0.09\n",
       "3         3  2014-09-20    408.903992       0.09\n",
       "4         4  2014-09-21    398.821014       0.09\n",
       "...     ...         ...           ...        ...\n",
       "3158   3158  2023-05-11  27000.789063       5.08\n",
       "3159   3159  2023-05-12  26804.990234       5.08\n",
       "3160   3160  2023-05-13  26784.078125       5.08\n",
       "3161   3161  2023-05-14  26930.638672       5.08\n",
       "3162   3162  2023-05-15  27406.390625       5.08\n",
       "\n",
       "[3163 rows x 4 columns]"
      ]
     },
     "execution_count": 4,
     "metadata": {},
     "output_type": "execute_result"
    }
   ],
   "source": [
    "btc"
   ]
  },
  {
   "cell_type": "code",
   "execution_count": 5,
   "id": "feb7700b",
   "metadata": {},
   "outputs": [],
   "source": [
    "\n",
    "X = []\n",
    "y = []\n",
    "inp_num = 60\n",
    "\n",
    "for i in range(inp_num, len(close_btc)):\n",
    "    X.append(close_btc[i-inp_num:i])\n",
    "    y.append(close_btc[i])\n",
    "\n",
    "X = np.array(X)\n",
    "y = np.array(y)"
   ]
  },
  {
   "cell_type": "code",
   "execution_count": 6,
   "id": "06169551",
   "metadata": {},
   "outputs": [],
   "source": [
    "split = int(len(X) * 0.8)\n",
    "X_train = X[:split]\n",
    "y_train = np.array(y[:split])\n",
    "X_test = X[split:]\n",
    "y_test = np.array(y[split:])"
   ]
  },
  {
   "cell_type": "code",
   "execution_count": 7,
   "id": "83de4c2d",
   "metadata": {},
   "outputs": [],
   "source": [
    "n = X_train.shape[0]  # Örnek sayısı\n",
    "m = X_train.shape[1]  # Özellik sayısı\n",
    "k = X_train.shape[2]  # Zaman adımı sayısı\n"
   ]
  },
  {
   "cell_type": "code",
   "execution_count": 8,
   "id": "04f1dc3a",
   "metadata": {},
   "outputs": [],
   "source": [
    "\n",
    "\n",
    "n_train, m_train, k_train = X_train.shape\n",
    "X_train = X_train.reshape((n_train, m_train * k_train))\n",
    "\n",
    "n_test, m_test, k_test = X_test.shape\n",
    "X_test = X_test.reshape((n_test, m_test * k_test))\n"
   ]
  },
  {
   "cell_type": "code",
   "execution_count": 9,
   "id": "f7c0eb0d",
   "metadata": {},
   "outputs": [],
   "source": [
    "\n",
    "sc = StandardScaler()\n",
    "X_train = sc.fit_transform(X_train)\n",
    "X_test = sc.transform(X_test)\n",
    "\n",
    "\n",
    "\n",
    "\n",
    "X_train = np.reshape(X_train, (X_train.shape[0], X_train.shape[1], 1))\n",
    "X_test = np.reshape(X_test, (X_test.shape[0], X_test.shape[1], 1))"
   ]
  },
  {
   "cell_type": "code",
   "execution_count": null,
   "id": "21deb5ab",
   "metadata": {},
   "outputs": [],
   "source": []
  },
  {
   "cell_type": "code",
   "execution_count": 10,
   "id": "407e5604",
   "metadata": {},
   "outputs": [],
   "source": [
    "model = Sequential() \n",
    "model.add(Conv1D(filters=128, kernel_size=3, activation = \"relu\",  input_shape=(120, 1)))\n",
    "model.add(MaxPooling1D(pool_size=2))\n",
    "model.add(Flatten())\n",
    "model.add(Dense(60, activation=\"relu\"))\n",
    "model.add(Dense(1))\n",
    "\n",
    "model.compile(optimizer=\"adam\", loss=\"mse\")\n",
    "\n"
   ]
  },
  {
   "cell_type": "code",
   "execution_count": 11,
   "id": "8cb6a0c0",
   "metadata": {},
   "outputs": [
    {
     "name": "stdout",
     "output_type": "stream",
     "text": [
      "Model: \"sequential\"\n",
      "_________________________________________________________________\n",
      " Layer (type)                Output Shape              Param #   \n",
      "=================================================================\n",
      " conv1d (Conv1D)             (None, 118, 128)          512       \n",
      "                                                                 \n",
      " max_pooling1d (MaxPooling1D  (None, 59, 128)          0         \n",
      " )                                                               \n",
      "                                                                 \n",
      " flatten (Flatten)           (None, 7552)              0         \n",
      "                                                                 \n",
      " dense (Dense)               (None, 60)                453180    \n",
      "                                                                 \n",
      " dense_1 (Dense)             (None, 1)                 61        \n",
      "                                                                 \n",
      "=================================================================\n",
      "Total params: 453,753\n",
      "Trainable params: 453,753\n",
      "Non-trainable params: 0\n",
      "_________________________________________________________________\n"
     ]
    }
   ],
   "source": [
    "model.summary()"
   ]
  },
  {
   "cell_type": "code",
   "execution_count": 12,
   "id": "bf18be8d",
   "metadata": {},
   "outputs": [],
   "source": [
    "\n",
    "X_train = X_train.reshape((X_train.shape[0], 120, 1))\n",
    "X_test = X_test.reshape((X_test.shape[0], 120, 1))\n"
   ]
  },
  {
   "cell_type": "code",
   "execution_count": 13,
   "id": "b5562c1f",
   "metadata": {},
   "outputs": [
    {
     "name": "stdout",
     "output_type": "stream",
     "text": [
      "Epoch 1/50\n",
      "78/78 [==============================] - 1s 4ms/step - loss: 117254808.0000\n",
      "Epoch 2/50\n",
      "78/78 [==============================] - 0s 4ms/step - loss: 85298096.0000\n",
      "Epoch 3/50\n",
      "78/78 [==============================] - 0s 4ms/step - loss: 75772736.0000\n",
      "Epoch 4/50\n",
      "78/78 [==============================] - 0s 5ms/step - loss: 74669736.0000\n",
      "Epoch 5/50\n",
      "78/78 [==============================] - 0s 4ms/step - loss: 73747856.0000\n",
      "Epoch 6/50\n",
      "78/78 [==============================] - 0s 4ms/step - loss: 73045032.0000\n",
      "Epoch 7/50\n",
      "78/78 [==============================] - 0s 4ms/step - loss: 72396048.0000\n",
      "Epoch 8/50\n",
      "78/78 [==============================] - 0s 4ms/step - loss: 71865064.0000\n",
      "Epoch 9/50\n",
      "78/78 [==============================] - 0s 4ms/step - loss: 71228528.0000\n",
      "Epoch 10/50\n",
      "78/78 [==============================] - 0s 4ms/step - loss: 70674512.0000\n",
      "Epoch 11/50\n",
      "78/78 [==============================] - 0s 5ms/step - loss: 70084640.0000\n",
      "Epoch 12/50\n",
      "78/78 [==============================] - 0s 5ms/step - loss: 69442232.0000\n",
      "Epoch 13/50\n",
      "78/78 [==============================] - 0s 5ms/step - loss: 68802424.0000\n",
      "Epoch 14/50\n",
      "78/78 [==============================] - 0s 5ms/step - loss: 68176520.0000\n",
      "Epoch 15/50\n",
      "78/78 [==============================] - 0s 5ms/step - loss: 67615144.0000\n",
      "Epoch 16/50\n",
      "78/78 [==============================] - 0s 5ms/step - loss: 67176976.0000\n",
      "Epoch 17/50\n",
      "78/78 [==============================] - 0s 5ms/step - loss: 66735992.0000\n",
      "Epoch 18/50\n",
      "78/78 [==============================] - 0s 5ms/step - loss: 66341952.0000\n",
      "Epoch 19/50\n",
      "78/78 [==============================] - 0s 5ms/step - loss: 66089412.0000\n",
      "Epoch 20/50\n",
      "78/78 [==============================] - 0s 5ms/step - loss: 65811724.0000\n",
      "Epoch 21/50\n",
      "78/78 [==============================] - 0s 5ms/step - loss: 65582116.0000\n",
      "Epoch 22/50\n",
      "78/78 [==============================] - 0s 5ms/step - loss: 65390420.0000\n",
      "Epoch 23/50\n",
      "78/78 [==============================] - 0s 5ms/step - loss: 65179996.0000\n",
      "Epoch 24/50\n",
      "78/78 [==============================] - 0s 5ms/step - loss: 65067404.0000\n",
      "Epoch 25/50\n",
      "78/78 [==============================] - 0s 5ms/step - loss: 64907988.0000\n",
      "Epoch 26/50\n",
      "78/78 [==============================] - 0s 5ms/step - loss: 64764704.0000\n",
      "Epoch 27/50\n",
      "78/78 [==============================] - 0s 5ms/step - loss: 64683412.0000\n",
      "Epoch 28/50\n",
      "78/78 [==============================] - 0s 5ms/step - loss: 64551224.0000\n",
      "Epoch 29/50\n",
      "78/78 [==============================] - 0s 6ms/step - loss: 64451772.0000\n",
      "Epoch 30/50\n",
      "78/78 [==============================] - 0s 6ms/step - loss: 64351924.0000\n",
      "Epoch 31/50\n",
      "78/78 [==============================] - 0s 6ms/step - loss: 64269012.0000\n",
      "Epoch 32/50\n",
      "78/78 [==============================] - 1s 7ms/step - loss: 64150204.0000\n",
      "Epoch 33/50\n",
      "78/78 [==============================] - 0s 6ms/step - loss: 64055480.0000\n",
      "Epoch 34/50\n",
      "78/78 [==============================] - 0s 6ms/step - loss: 63952444.0000\n",
      "Epoch 35/50\n",
      "78/78 [==============================] - 0s 6ms/step - loss: 63876820.0000\n",
      "Epoch 36/50\n",
      "78/78 [==============================] - 0s 6ms/step - loss: 63753532.0000\n",
      "Epoch 37/50\n",
      "78/78 [==============================] - 0s 6ms/step - loss: 63648288.0000\n",
      "Epoch 38/50\n",
      "78/78 [==============================] - 0s 6ms/step - loss: 63544696.0000\n",
      "Epoch 39/50\n",
      "78/78 [==============================] - 1s 6ms/step - loss: 63425968.0000\n",
      "Epoch 40/50\n",
      "78/78 [==============================] - 1s 7ms/step - loss: 63353576.0000\n",
      "Epoch 41/50\n",
      "78/78 [==============================] - 1s 7ms/step - loss: 63232944.0000\n",
      "Epoch 42/50\n",
      "78/78 [==============================] - 1s 7ms/step - loss: 63140588.0000\n",
      "Epoch 43/50\n",
      "78/78 [==============================] - 1s 7ms/step - loss: 63089220.0000\n",
      "Epoch 44/50\n",
      "78/78 [==============================] - 1s 7ms/step - loss: 63012264.0000\n",
      "Epoch 45/50\n",
      "78/78 [==============================] - 1s 7ms/step - loss: 62976028.0000\n",
      "Epoch 46/50\n",
      "78/78 [==============================] - 1s 8ms/step - loss: 62911880.0000\n",
      "Epoch 47/50\n",
      "78/78 [==============================] - 1s 7ms/step - loss: 62889364.0000\n",
      "Epoch 48/50\n",
      "78/78 [==============================] - 1s 7ms/step - loss: 62839856.0000\n",
      "Epoch 49/50\n",
      "78/78 [==============================] - 1s 7ms/step - loss: 62824572.0000\n",
      "Epoch 50/50\n",
      "78/78 [==============================] - 1s 7ms/step - loss: 62797956.0000\n"
     ]
    },
    {
     "data": {
      "text/plain": [
       "<keras.callbacks.History at 0x173c13850>"
      ]
     },
     "execution_count": 13,
     "metadata": {},
     "output_type": "execute_result"
    }
   ],
   "source": [
    "\n",
    "\n",
    "hist = History() # Used to record loss per epoch\n",
    "model.fit(X_train, y_train, epochs=50, batch_size = 32, callbacks=[hist])"
   ]
  },
  {
   "cell_type": "code",
   "execution_count": 14,
   "id": "515e65ed",
   "metadata": {},
   "outputs": [
    {
     "data": {
      "image/png": "[encoded data removed]",
      "text/plain": [
       "<Figure size 432x288 with 1 Axes>"
      ]
     },
     "metadata": {
      "needs_background": "light"
     },
     "output_type": "display_data"
    }
   ],
   "source": [
    "losses = hist.history['loss']\n",
    "plt.plot(np.arange(1, len(losses) + 1),losses)\n",
    "plt.title(\"Losses By Epoch\")\n",
    "plt.xlabel(\"Epoch\")\n",
    "plt.ylabel(\"Losses\")\n",
    "plt.show()"
   ]
  },
  {
   "cell_type": "code",
   "execution_count": 15,
   "id": "af2126e2",
   "metadata": {},
   "outputs": [
    {
     "name": "stdout",
     "output_type": "stream",
     "text": [
      "20/20 [==============================] - 0s 2ms/step\n",
      "RMSE = 18491.30995503748\n"
     ]
    }
   ],
   "source": [
    "yhat = model.predict(X_test)\n",
    "yhat = yhat.reshape(yhat.shape[0],)\n",
    "import numpy as np\n",
    "\n",
    "yhat_expanded = np.repeat(yhat, y_test.shape[1])\n",
    "\n",
    "y_test = y_test[:, 0]\n",
    "\n",
    "mse = mean_squared_error(y_test, yhat)\n",
    "\n",
    "print(\"RMSE = \" + str(np.sqrt(mse)))\n"
   ]
  },
  {
   "cell_type": "code",
   "execution_count": 21,
   "id": "ba0e90b8",
   "metadata": {},
   "outputs": [
    {
     "data": {
      "text/plain": [
       "(621,)"
      ]
     },
     "execution_count": 21,
     "metadata": {},
     "output_type": "execute_result"
    }
   ],
   "source": [
    "yhat.shape"
   ]
  },
  {
   "cell_type": "code",
   "execution_count": 22,
   "id": "640e381a",
   "metadata": {},
   "outputs": [
    {
     "data": {
      "text/plain": [
       "(621, 120, 1)"
      ]
     },
     "execution_count": 22,
     "metadata": {},
     "output_type": "execute_result"
    }
   ],
   "source": [
    "X_test.shape"
   ]
  },
  {
   "cell_type": "code",
   "execution_count": 16,
   "id": "795f7266",
   "metadata": {},
   "outputs": [
    {
     "data": {
      "image/png": "[encoded data removed]",
      "text/plain": [
       "<Figure size 1440x720 with 1 Axes>"
      ]
     },
     "metadata": {
      "needs_background": "light"
     },
     "output_type": "display_data"
    }
   ],
   "source": [
    "plt.figure(figsize=(20,10))\n",
    "plt.plot(y_test, color=\"red\", label=\"Actual\")\n",
    "plt.plot(yhat, color = \"blue\", label = \"Predicted\")\n",
    "plt.title(\"BTC Close Stock Prices\")\n",
    "plt.xlabel(\"Time\")\n",
    "plt.ylabel(\"Stock Price\")\n",
    "plt.legend()\n",
    "plt.show()"
   ]
  },
  {
   "cell_type": "code",
   "execution_count": 17,
   "id": "8c396a7b",
   "metadata": {},
   "outputs": [
    {
     "name": "stdout",
     "output_type": "stream",
     "text": [
      "18491.30995503748\n",
      "18491.30995503748\n"
     ]
    }
   ],
   "source": [
    "import pandas as pd\n",
    "from sklearn.metrics import mean_squared_error, r2_score, mean_absolute_error\n",
    "MSE = math.sqrt(mean_squared_error(y_test, yhat))\n",
    "RMSE =np.sqrt(mse)\n",
    "print(MSE)\n",
    "print(RMSE)"
   ]
  },
  {
   "cell_type": "code",
   "execution_count": 18,
   "id": "979e1085",
   "metadata": {},
   "outputs": [
    {
     "name": "stdout",
     "output_type": "stream",
     "text": [
      "MAE: 17047.596635341662\n",
      "R2: -0.8654803263223483\n"
     ]
    }
   ],
   "source": [
    "from sklearn.metrics import mean_absolute_error\n",
    "from sklearn.metrics import r2_score\n",
    "MAE = mean_absolute_error(y_test, yhat)\n",
    "print('MAE:', MAE)\n",
    "R2 = r2_score(y_test, yhat)\n",
    "print('R2:', R2)"
   ]
  },
  {
   "cell_type": "code",
   "execution_count": 19,
   "id": "bed60121",
   "metadata": {},
   "outputs": [
    {
     "name": "stdout",
     "output_type": "stream",
     "text": [
      "         MSE         RMSE          MAE       R2\n",
      "18491.309955 18491.309955 17047.596635 -0.86548\n"
     ]
    }
   ],
   "source": [
    "import pandas as pd\n",
    "\n",
    "# Değerleri bir sözlük yapısında sakla\n",
    "results = {'MSE': [MSE], 'RMSE': [RMSE], 'MAE': [MAE], 'R2': [R2]}\n",
    "\n",
    "# DataFrame oluştur ve index değerlerini varsayılan değerlerle ata\n",
    "CNN2_ERROR= pd.DataFrame.from_dict(results, orient='index').T\n",
    "\n",
    "# DataFrame'i ERROR ismiyle kaydet\n",
    "CNN2_ERROR = CNN2_ERROR.to_string(index=False)\n",
    "\n",
    "# ERROR'u yazdır\n",
    "\n",
    "print(CNN2_ERROR)"
   ]
  },
  {
   "cell_type": "code",
   "execution_count": 20,
   "id": "c6f2d4f1",
   "metadata": {},
   "outputs": [],
   "source": [
    "import pandas as pd\n",
    "\n",
    "# Değerleri bir sözlük yapısında sakla\n",
    "results = {'MSE': [MSE], 'RMSE': [RMSE], 'MAE': [MAE], 'R2': [R2]}\n",
    "\n",
    "# DataFrame oluştur ve index değerlerini varsayılan değerlerle ata\n",
    "CNN2_ERROR = pd.DataFrame.from_dict(results, orient='index').T\n",
    "\n",
    "# Çıktıyı metin dosyasına aktar\n",
    "output_text = CNN2_ERROR.to_string(index=False)\n",
    "\n",
    "# Metin dosyasını kaydet\n",
    "with open('CNN2_ERROR.txt', 'w') as file:\n",
    "    file.write(output_text)\n"
   ]
  },
  {
   "cell_type": "code",
   "execution_count": null,
   "id": "6966e22b",
   "metadata": {},
   "outputs": [],
   "source": []
  },
  {
   "cell_type": "code",
   "execution_count": null,
   "id": "b9164097",
   "metadata": {},
   "outputs": [],
   "source": []
  }
 ],
 "metadata": {
  "kernelspec": {
   "display_name": "Python 3.10 (tensorflow)",
   "language": "python",
   "name": "tensorflow"
  },
  "language_info": {
   "codemirror_mode": {
    "name": "ipython",
    "version": 3
   },
   "file_extension": ".py",
   "mimetype": "text/x-python",
   "name": "python",
   "nbconvert_exporter": "python",
   "pygments_lexer": "ipython3",
   "version": "3.9.16"
  }
 },
 "nbformat": 4,
 "nbformat_minor": 5
}
